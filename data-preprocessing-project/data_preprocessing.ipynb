{
 "cells": [
  {
   "cell_type": "markdown",
   "metadata": {},
   "source": [
    "# Исследование объявлений о продаже квартир\n",
    "\n",
    "Мне был предоставлен датасет с пользовательскими и картографическими(автоматическими) данными об объявлениях о продаже квартир в Ленинградской области. Я провел исследовательский анализ данных с предобработкой. "
   ]
  },
  {
   "cell_type": "markdown",
   "metadata": {},
   "source": [
    "### Открытие файла и изучение общей информации"
   ]
  },
  {
   "cell_type": "code",
   "execution_count": 1,
   "metadata": {},
   "outputs": [],
   "source": [
    "import pandas as pd\n",
    "import seaborn as sns\n",
    "import matplotlib.pyplot as plt\n",
    "import warnings\n",
    "warnings.filterwarnings('ignore')"
   ]
  },
  {
   "cell_type": "code",
   "execution_count": 2,
   "metadata": {
    "scrolled": false
   },
   "outputs": [
    {
     "data": {
      "text/html": [
       "<div>\n",
       "<style scoped>\n",
       "    .dataframe tbody tr th:only-of-type {\n",
       "        vertical-align: middle;\n",
       "    }\n",
       "\n",
       "    .dataframe tbody tr th {\n",
       "        vertical-align: top;\n",
       "    }\n",
       "\n",
       "    .dataframe thead th {\n",
       "        text-align: right;\n",
       "    }\n",
       "</style>\n",
       "<table border=\"1\" class=\"dataframe\">\n",
       "  <thead>\n",
       "    <tr style=\"text-align: right;\">\n",
       "      <th></th>\n",
       "      <th>total_images</th>\n",
       "      <th>last_price</th>\n",
       "      <th>total_area</th>\n",
       "      <th>first_day_exposition</th>\n",
       "      <th>rooms</th>\n",
       "      <th>ceiling_height</th>\n",
       "      <th>floors_total</th>\n",
       "      <th>living_area</th>\n",
       "      <th>floor</th>\n",
       "      <th>is_apartment</th>\n",
       "      <th>...</th>\n",
       "      <th>kitchen_area</th>\n",
       "      <th>balcony</th>\n",
       "      <th>locality_name</th>\n",
       "      <th>airports_nearest</th>\n",
       "      <th>cityCenters_nearest</th>\n",
       "      <th>parks_around3000</th>\n",
       "      <th>parks_nearest</th>\n",
       "      <th>ponds_around3000</th>\n",
       "      <th>ponds_nearest</th>\n",
       "      <th>days_exposition</th>\n",
       "    </tr>\n",
       "  </thead>\n",
       "  <tbody>\n",
       "    <tr>\n",
       "      <th>0</th>\n",
       "      <td>20</td>\n",
       "      <td>13000000.0</td>\n",
       "      <td>108.0</td>\n",
       "      <td>2019-03-07T00:00:00</td>\n",
       "      <td>3</td>\n",
       "      <td>2.70</td>\n",
       "      <td>16.0</td>\n",
       "      <td>51.0</td>\n",
       "      <td>8</td>\n",
       "      <td>NaN</td>\n",
       "      <td>...</td>\n",
       "      <td>25.0</td>\n",
       "      <td>NaN</td>\n",
       "      <td>Санкт-Петербург</td>\n",
       "      <td>18863.0</td>\n",
       "      <td>16028.0</td>\n",
       "      <td>1.0</td>\n",
       "      <td>482.0</td>\n",
       "      <td>2.0</td>\n",
       "      <td>755.0</td>\n",
       "      <td>NaN</td>\n",
       "    </tr>\n",
       "    <tr>\n",
       "      <th>1</th>\n",
       "      <td>7</td>\n",
       "      <td>3350000.0</td>\n",
       "      <td>40.4</td>\n",
       "      <td>2018-12-04T00:00:00</td>\n",
       "      <td>1</td>\n",
       "      <td>NaN</td>\n",
       "      <td>11.0</td>\n",
       "      <td>18.6</td>\n",
       "      <td>1</td>\n",
       "      <td>NaN</td>\n",
       "      <td>...</td>\n",
       "      <td>11.0</td>\n",
       "      <td>2.0</td>\n",
       "      <td>посёлок Шушары</td>\n",
       "      <td>12817.0</td>\n",
       "      <td>18603.0</td>\n",
       "      <td>0.0</td>\n",
       "      <td>NaN</td>\n",
       "      <td>0.0</td>\n",
       "      <td>NaN</td>\n",
       "      <td>81.0</td>\n",
       "    </tr>\n",
       "    <tr>\n",
       "      <th>2</th>\n",
       "      <td>10</td>\n",
       "      <td>5196000.0</td>\n",
       "      <td>56.0</td>\n",
       "      <td>2015-08-20T00:00:00</td>\n",
       "      <td>2</td>\n",
       "      <td>NaN</td>\n",
       "      <td>5.0</td>\n",
       "      <td>34.3</td>\n",
       "      <td>4</td>\n",
       "      <td>NaN</td>\n",
       "      <td>...</td>\n",
       "      <td>8.3</td>\n",
       "      <td>0.0</td>\n",
       "      <td>Санкт-Петербург</td>\n",
       "      <td>21741.0</td>\n",
       "      <td>13933.0</td>\n",
       "      <td>1.0</td>\n",
       "      <td>90.0</td>\n",
       "      <td>2.0</td>\n",
       "      <td>574.0</td>\n",
       "      <td>558.0</td>\n",
       "    </tr>\n",
       "    <tr>\n",
       "      <th>3</th>\n",
       "      <td>0</td>\n",
       "      <td>64900000.0</td>\n",
       "      <td>159.0</td>\n",
       "      <td>2015-07-24T00:00:00</td>\n",
       "      <td>3</td>\n",
       "      <td>NaN</td>\n",
       "      <td>14.0</td>\n",
       "      <td>NaN</td>\n",
       "      <td>9</td>\n",
       "      <td>NaN</td>\n",
       "      <td>...</td>\n",
       "      <td>NaN</td>\n",
       "      <td>0.0</td>\n",
       "      <td>Санкт-Петербург</td>\n",
       "      <td>28098.0</td>\n",
       "      <td>6800.0</td>\n",
       "      <td>2.0</td>\n",
       "      <td>84.0</td>\n",
       "      <td>3.0</td>\n",
       "      <td>234.0</td>\n",
       "      <td>424.0</td>\n",
       "    </tr>\n",
       "    <tr>\n",
       "      <th>4</th>\n",
       "      <td>2</td>\n",
       "      <td>10000000.0</td>\n",
       "      <td>100.0</td>\n",
       "      <td>2018-06-19T00:00:00</td>\n",
       "      <td>2</td>\n",
       "      <td>3.03</td>\n",
       "      <td>14.0</td>\n",
       "      <td>32.0</td>\n",
       "      <td>13</td>\n",
       "      <td>NaN</td>\n",
       "      <td>...</td>\n",
       "      <td>41.0</td>\n",
       "      <td>NaN</td>\n",
       "      <td>Санкт-Петербург</td>\n",
       "      <td>31856.0</td>\n",
       "      <td>8098.0</td>\n",
       "      <td>2.0</td>\n",
       "      <td>112.0</td>\n",
       "      <td>1.0</td>\n",
       "      <td>48.0</td>\n",
       "      <td>121.0</td>\n",
       "    </tr>\n",
       "  </tbody>\n",
       "</table>\n",
       "<p>5 rows × 22 columns</p>\n",
       "</div>"
      ],
      "text/plain": [
       "   total_images  last_price  total_area first_day_exposition  rooms  \\\n",
       "0            20  13000000.0       108.0  2019-03-07T00:00:00      3   \n",
       "1             7   3350000.0        40.4  2018-12-04T00:00:00      1   \n",
       "2            10   5196000.0        56.0  2015-08-20T00:00:00      2   \n",
       "3             0  64900000.0       159.0  2015-07-24T00:00:00      3   \n",
       "4             2  10000000.0       100.0  2018-06-19T00:00:00      2   \n",
       "\n",
       "   ceiling_height  floors_total  living_area  floor is_apartment  ...  \\\n",
       "0            2.70          16.0         51.0      8          NaN  ...   \n",
       "1             NaN          11.0         18.6      1          NaN  ...   \n",
       "2             NaN           5.0         34.3      4          NaN  ...   \n",
       "3             NaN          14.0          NaN      9          NaN  ...   \n",
       "4            3.03          14.0         32.0     13          NaN  ...   \n",
       "\n",
       "   kitchen_area  balcony    locality_name  airports_nearest  \\\n",
       "0          25.0      NaN  Санкт-Петербург           18863.0   \n",
       "1          11.0      2.0   посёлок Шушары           12817.0   \n",
       "2           8.3      0.0  Санкт-Петербург           21741.0   \n",
       "3           NaN      0.0  Санкт-Петербург           28098.0   \n",
       "4          41.0      NaN  Санкт-Петербург           31856.0   \n",
       "\n",
       "  cityCenters_nearest  parks_around3000  parks_nearest  ponds_around3000  \\\n",
       "0             16028.0               1.0          482.0               2.0   \n",
       "1             18603.0               0.0            NaN               0.0   \n",
       "2             13933.0               1.0           90.0               2.0   \n",
       "3              6800.0               2.0           84.0               3.0   \n",
       "4              8098.0               2.0          112.0               1.0   \n",
       "\n",
       "   ponds_nearest  days_exposition  \n",
       "0          755.0              NaN  \n",
       "1            NaN             81.0  \n",
       "2          574.0            558.0  \n",
       "3          234.0            424.0  \n",
       "4           48.0            121.0  \n",
       "\n",
       "[5 rows x 22 columns]"
      ]
     },
     "metadata": {},
     "output_type": "display_data"
    },
    {
     "name": "stdout",
     "output_type": "stream",
     "text": [
      "<class 'pandas.core.frame.DataFrame'>\n",
      "RangeIndex: 23699 entries, 0 to 23698\n",
      "Data columns (total 22 columns):\n",
      " #   Column                Non-Null Count  Dtype  \n",
      "---  ------                --------------  -----  \n",
      " 0   total_images          23699 non-null  int64  \n",
      " 1   last_price            23699 non-null  float64\n",
      " 2   total_area            23699 non-null  float64\n",
      " 3   first_day_exposition  23699 non-null  object \n",
      " 4   rooms                 23699 non-null  int64  \n",
      " 5   ceiling_height        14504 non-null  float64\n",
      " 6   floors_total          23613 non-null  float64\n",
      " 7   living_area           21796 non-null  float64\n",
      " 8   floor                 23699 non-null  int64  \n",
      " 9   is_apartment          2775 non-null   object \n",
      " 10  studio                23699 non-null  bool   \n",
      " 11  open_plan             23699 non-null  bool   \n",
      " 12  kitchen_area          21421 non-null  float64\n",
      " 13  balcony               12180 non-null  float64\n",
      " 14  locality_name         23650 non-null  object \n",
      " 15  airports_nearest      18157 non-null  float64\n",
      " 16  cityCenters_nearest   18180 non-null  float64\n",
      " 17  parks_around3000      18181 non-null  float64\n",
      " 18  parks_nearest         8079 non-null   float64\n",
      " 19  ponds_around3000      18181 non-null  float64\n",
      " 20  ponds_nearest         9110 non-null   float64\n",
      " 21  days_exposition       20518 non-null  float64\n",
      "dtypes: bool(2), float64(14), int64(3), object(3)\n",
      "memory usage: 3.7+ MB\n"
     ]
    },
    {
     "data": {
      "image/png": "[encoded data removed]",
      "text/plain": [
       "<Figure size 1080x1440 with 20 Axes>"
      ]
     },
     "metadata": {
      "needs_background": "light"
     },
     "output_type": "display_data"
    }
   ],
   "source": [
    "data = pd.read_csv('/datasets/real_estate_data.csv', '\\t')\n",
    "\n",
    "display(data.head())\n",
    "data.info()\n",
    "\n",
    "data.hist(figsize = (15, 20))\n",
    "plt.show()"
   ]
  },
  {
   "cell_type": "markdown",
   "metadata": {},
   "source": [
    "По информации о датасете можно сказать, что есть пропуски более чем в половине столбцов, а также есть проблемы с типами данных(к примеру floors_total имеет тип вещественных чисел, хотя число этажей не может быть дробным). С этими проблемами надо будет разобраться в предобработке "
   ]
  },
  {
   "cell_type": "markdown",
   "metadata": {},
   "source": [
    "### Предобработка данных"
   ]
  },
  {
   "cell_type": "markdown",
   "metadata": {},
   "source": [
    "1.Работа с пропусками"
   ]
  },
  {
   "cell_type": "code",
   "execution_count": 3,
   "metadata": {
    "scrolled": false
   },
   "outputs": [
    {
     "data": {
      "text/html": [
       "<style type=\"text/css\">\n",
       "#T_0f1e7_row0_col0, #T_0f1e7_row1_col0, #T_0f1e7_row2_col0, #T_0f1e7_row3_col0, #T_0f1e7_row4_col0, #T_0f1e7_row5_col0, #T_0f1e7_row6_col0, #T_0f1e7_row7_col0, #T_0f1e7_row8_col0, #T_0f1e7_row9_col0, #T_0f1e7_row10_col0, #T_0f1e7_row11_col0, #T_0f1e7_row12_col0, #T_0f1e7_row13_col0, #T_0f1e7_row14_col0, #T_0f1e7_row15_col0, #T_0f1e7_row16_col0, #T_0f1e7_row17_col0, #T_0f1e7_row18_col0, #T_0f1e7_row19_col0, #T_0f1e7_row20_col0, #T_0f1e7_row21_col0 {\n",
       "  background-color: #3b4cc0;\n",
       "  color: #f1f1f1;\n",
       "}\n",
       "</style>\n",
       "<table id=\"T_0f1e7\">\n",
       "  <thead>\n",
       "    <tr>\n",
       "      <th class=\"blank level0\" >&nbsp;</th>\n",
       "      <th id=\"T_0f1e7_level0_col0\" class=\"col_heading level0 col0\" >0</th>\n",
       "    </tr>\n",
       "  </thead>\n",
       "  <tbody>\n",
       "    <tr>\n",
       "      <th id=\"T_0f1e7_level0_row0\" class=\"row_heading level0 row0\" >total_images</th>\n",
       "      <td id=\"T_0f1e7_row0_col0\" class=\"data row0 col0\" >0.000000</td>\n",
       "    </tr>\n",
       "    <tr>\n",
       "      <th id=\"T_0f1e7_level0_row1\" class=\"row_heading level0 row1\" >last_price</th>\n",
       "      <td id=\"T_0f1e7_row1_col0\" class=\"data row1 col0\" >0.000000</td>\n",
       "    </tr>\n",
       "    <tr>\n",
       "      <th id=\"T_0f1e7_level0_row2\" class=\"row_heading level0 row2\" >total_area</th>\n",
       "      <td id=\"T_0f1e7_row2_col0\" class=\"data row2 col0\" >0.000000</td>\n",
       "    </tr>\n",
       "    <tr>\n",
       "      <th id=\"T_0f1e7_level0_row3\" class=\"row_heading level0 row3\" >first_day_exposition</th>\n",
       "      <td id=\"T_0f1e7_row3_col0\" class=\"data row3 col0\" >0.000000</td>\n",
       "    </tr>\n",
       "    <tr>\n",
       "      <th id=\"T_0f1e7_level0_row4\" class=\"row_heading level0 row4\" >rooms</th>\n",
       "      <td id=\"T_0f1e7_row4_col0\" class=\"data row4 col0\" >0.000000</td>\n",
       "    </tr>\n",
       "    <tr>\n",
       "      <th id=\"T_0f1e7_level0_row5\" class=\"row_heading level0 row5\" >ceiling_height</th>\n",
       "      <td id=\"T_0f1e7_row5_col0\" class=\"data row5 col0\" >0.000000</td>\n",
       "    </tr>\n",
       "    <tr>\n",
       "      <th id=\"T_0f1e7_level0_row6\" class=\"row_heading level0 row6\" >floors_total</th>\n",
       "      <td id=\"T_0f1e7_row6_col0\" class=\"data row6 col0\" >0.000000</td>\n",
       "    </tr>\n",
       "    <tr>\n",
       "      <th id=\"T_0f1e7_level0_row7\" class=\"row_heading level0 row7\" >living_area</th>\n",
       "      <td id=\"T_0f1e7_row7_col0\" class=\"data row7 col0\" >0.000000</td>\n",
       "    </tr>\n",
       "    <tr>\n",
       "      <th id=\"T_0f1e7_level0_row8\" class=\"row_heading level0 row8\" >floor</th>\n",
       "      <td id=\"T_0f1e7_row8_col0\" class=\"data row8 col0\" >0.000000</td>\n",
       "    </tr>\n",
       "    <tr>\n",
       "      <th id=\"T_0f1e7_level0_row9\" class=\"row_heading level0 row9\" >is_apartment</th>\n",
       "      <td id=\"T_0f1e7_row9_col0\" class=\"data row9 col0\" >0.000000</td>\n",
       "    </tr>\n",
       "    <tr>\n",
       "      <th id=\"T_0f1e7_level0_row10\" class=\"row_heading level0 row10\" >studio</th>\n",
       "      <td id=\"T_0f1e7_row10_col0\" class=\"data row10 col0\" >0.000000</td>\n",
       "    </tr>\n",
       "    <tr>\n",
       "      <th id=\"T_0f1e7_level0_row11\" class=\"row_heading level0 row11\" >open_plan</th>\n",
       "      <td id=\"T_0f1e7_row11_col0\" class=\"data row11 col0\" >0.000000</td>\n",
       "    </tr>\n",
       "    <tr>\n",
       "      <th id=\"T_0f1e7_level0_row12\" class=\"row_heading level0 row12\" >kitchen_area</th>\n",
       "      <td id=\"T_0f1e7_row12_col0\" class=\"data row12 col0\" >0.000000</td>\n",
       "    </tr>\n",
       "    <tr>\n",
       "      <th id=\"T_0f1e7_level0_row13\" class=\"row_heading level0 row13\" >balcony</th>\n",
       "      <td id=\"T_0f1e7_row13_col0\" class=\"data row13 col0\" >0.000000</td>\n",
       "    </tr>\n",
       "    <tr>\n",
       "      <th id=\"T_0f1e7_level0_row14\" class=\"row_heading level0 row14\" >locality_name</th>\n",
       "      <td id=\"T_0f1e7_row14_col0\" class=\"data row14 col0\" >0.000000</td>\n",
       "    </tr>\n",
       "    <tr>\n",
       "      <th id=\"T_0f1e7_level0_row15\" class=\"row_heading level0 row15\" >airports_nearest</th>\n",
       "      <td id=\"T_0f1e7_row15_col0\" class=\"data row15 col0\" >0.000000</td>\n",
       "    </tr>\n",
       "    <tr>\n",
       "      <th id=\"T_0f1e7_level0_row16\" class=\"row_heading level0 row16\" >cityCenters_nearest</th>\n",
       "      <td id=\"T_0f1e7_row16_col0\" class=\"data row16 col0\" >0.000000</td>\n",
       "    </tr>\n",
       "    <tr>\n",
       "      <th id=\"T_0f1e7_level0_row17\" class=\"row_heading level0 row17\" >parks_around3000</th>\n",
       "      <td id=\"T_0f1e7_row17_col0\" class=\"data row17 col0\" >0.000000</td>\n",
       "    </tr>\n",
       "    <tr>\n",
       "      <th id=\"T_0f1e7_level0_row18\" class=\"row_heading level0 row18\" >parks_nearest</th>\n",
       "      <td id=\"T_0f1e7_row18_col0\" class=\"data row18 col0\" >0.000000</td>\n",
       "    </tr>\n",
       "    <tr>\n",
       "      <th id=\"T_0f1e7_level0_row19\" class=\"row_heading level0 row19\" >ponds_around3000</th>\n",
       "      <td id=\"T_0f1e7_row19_col0\" class=\"data row19 col0\" >0.000000</td>\n",
       "    </tr>\n",
       "    <tr>\n",
       "      <th id=\"T_0f1e7_level0_row20\" class=\"row_heading level0 row20\" >ponds_nearest</th>\n",
       "      <td id=\"T_0f1e7_row20_col0\" class=\"data row20 col0\" >0.000000</td>\n",
       "    </tr>\n",
       "    <tr>\n",
       "      <th id=\"T_0f1e7_level0_row21\" class=\"row_heading level0 row21\" >days_exposition</th>\n",
       "      <td id=\"T_0f1e7_row21_col0\" class=\"data row21 col0\" >0.000000</td>\n",
       "    </tr>\n",
       "  </tbody>\n",
       "</table>\n"
      ],
      "text/plain": [
       "<pandas.io.formats.style.Styler at 0x29b63a62940>"
      ]
     },
     "execution_count": 3,
     "metadata": {},
     "output_type": "execute_result"
    }
   ],
   "source": [
    "#Данные добавленные пользователем\n",
    "#0\n",
    "data = data.query('not locality_name.isna()')\n",
    "#1\n",
    "data['ceiling_height'] = data['ceiling_height'].fillna(data['ceiling_height'].median())\n",
    "#2\n",
    "data['living_area'] = data['living_area'].fillna(data['living_area'].median())\n",
    "#3\n",
    "data['is_apartment'] = data['is_apartment'].fillna(0)\n",
    "#4\n",
    "data['kitchen_area'] = data['kitchen_area'].fillna(data['kitchen_area'].median())\n",
    "#5\n",
    "data['balcony'] = data['balcony'].fillna(0)\n",
    "\n",
    "#Картографичесие данные\n",
    "#6\n",
    "data['parks_around3000'] = data['parks_around3000'].fillna(0)\n",
    "data['ponds_around3000'] = data['ponds_around3000'].fillna(0)\n",
    "data['parks_nearest'] = data['parks_nearest'].fillna(0)\n",
    "data['ponds_nearest'] = data['ponds_nearest'].fillna(0)\n",
    "#7\n",
    "data['days_exposition'] = data['days_exposition'].fillna(data['days_exposition'].median())\n",
    "#8\n",
    "data['cityCenters_nearest'] = data['cityCenters_nearest'].fillna(data['cityCenters_nearest'].median())\n",
    "data['airports_nearest'] = data['airports_nearest'].fillna(data['airports_nearest'].median())\n",
    "\n",
    "#9\n",
    "data = data.query('not floors_total.isna()')\n",
    "\n",
    "pd.DataFrame(round(data.isna().mean()*100,)).style.background_gradient('coolwarm')\n"
   ]
  },
  {
   "cell_type": "markdown",
   "metadata": {},
   "source": [
    "0)Убрал строки с пропусками в locality_name, т.к. их мало(49) и т.к. это названия населенных пунктов их будет очень трудно заменить на что-то другое\n",
    "\n",
    "1)Заменил пропуски в высоте потолков на медианные значения, т.к. медианное значение более точно отражает примерное значение высоты\n",
    "\n",
    "2)Аналогично заменил жил. площадь\n",
    "\n",
    "3)Заменил пропуски в is_apartment на 0, т.к. это категориальное значение(предпологаю, что так много пропусков в данном столбце из-за того что разница между апартаментами и квартирой известна далеко не всем)\n",
    "\n",
    "4)Заменил значение площади кухни на медианное\n",
    "\n",
    "5)Заменил пропуски в balcony на 0, т.к. скорее всего эти данные не указаны из-за отсутствия балконов в квартире\n",
    "\n",
    "6)В столбцах с расстоянием и количестом до парков и прудов я все заменил на 0, т.к. эти пропуски могут означать, что рядом с квартирой нет парка или водоема. Это можно проверить, если мы возьмем все строки с parks_around3000 == 0 или с ponds_around3000, то во всех этих строках(кроме 4-ех для parks_around3000) parks_nearest или ponds_nearest будет NaN. Так же эти пропуски могут означать сбой в системе.\n",
    "\n",
    "7)Заменил значение days_exposition на медианное. Эти пропуски могли появиться из-за того что\n",
    "публикации объявлений не снимали или из-за тех.сбоя\n",
    "\n",
    "8)Заменил пропуски в расстоянии до центра и аэропорта на медианные значения, т.к. медианное значение более точно отражает примерное значение\n",
    "\n",
    "**Отдельные столбцы:** Столбец floors_total имеет очень мало пропусков, и при добалении в data столбец с типом этажа можно все пропуска добавить в \"Другой\" тип."
   ]
  },
  {
   "cell_type": "markdown",
   "metadata": {},
   "source": [
    "2.Изменение типов данных"
   ]
  },
  {
   "cell_type": "code",
   "execution_count": 4,
   "metadata": {},
   "outputs": [
    {
     "name": "stdout",
     "output_type": "stream",
     "text": [
      "<class 'pandas.core.frame.DataFrame'>\n",
      "Int64Index: 23565 entries, 0 to 23698\n",
      "Data columns (total 22 columns):\n",
      " #   Column                Non-Null Count  Dtype         \n",
      "---  ------                --------------  -----         \n",
      " 0   total_images          23565 non-null  int64         \n",
      " 1   last_price            23565 non-null  float64       \n",
      " 2   total_area            23565 non-null  float64       \n",
      " 3   first_day_exposition  23565 non-null  datetime64[ns]\n",
      " 4   rooms                 23565 non-null  int64         \n",
      " 5   ceiling_height        23565 non-null  float64       \n",
      " 6   floors_total          23565 non-null  int32         \n",
      " 7   living_area           23565 non-null  float64       \n",
      " 8   floor                 23565 non-null  int64         \n",
      " 9   is_apartment          23565 non-null  bool          \n",
      " 10  studio                23565 non-null  bool          \n",
      " 11  open_plan             23565 non-null  bool          \n",
      " 12  kitchen_area          23565 non-null  float64       \n",
      " 13  balcony               23565 non-null  int32         \n",
      " 14  locality_name         23565 non-null  object        \n",
      " 15  airports_nearest      23565 non-null  int32         \n",
      " 16  cityCenters_nearest   23565 non-null  int32         \n",
      " 17  parks_around3000      23565 non-null  int32         \n",
      " 18  parks_nearest         23565 non-null  int32         \n",
      " 19  ponds_around3000      23565 non-null  int32         \n",
      " 20  ponds_nearest         23565 non-null  int32         \n",
      " 21  days_exposition       23565 non-null  int32         \n",
      "dtypes: bool(3), datetime64[ns](1), float64(5), int32(9), int64(3), object(1)\n",
      "memory usage: 2.9+ MB\n"
     ]
    }
   ],
   "source": [
    "#1\n",
    "data['balcony'] = data['balcony'].astype('int')\n",
    "data['days_exposition'] = data['days_exposition'].astype('int')\n",
    "data['ponds_around3000'] = data['ponds_around3000'].astype('int')\n",
    "data['parks_around3000'] = data['parks_around3000'].astype('int')\n",
    "data['ponds_nearest'] = data['ponds_nearest'].astype('int')\n",
    "data['parks_nearest'] = data['parks_nearest'].astype('int')\n",
    "data['airports_nearest'] = data['airports_nearest'].astype('int')\n",
    "data['cityCenters_nearest'] = data['cityCenters_nearest'].astype('int')\n",
    "data['floors_total'] = data['floors_total'].astype('int')\n",
    "\n",
    "#2\n",
    "data['first_day_exposition'] = pd.to_datetime(data['first_day_exposition'], format = '%Y.%m.%d')\n",
    "#3\n",
    "data['is_apartment'] = data['is_apartment'].astype('bool')\n",
    "data.info()"
   ]
  },
  {
   "cell_type": "markdown",
   "metadata": {},
   "source": [
    "1)Изменим тип данных float на int в столбцах с картографическими данными, balcony и days_exposition, т.к. эти значения не могут быть дробными\n",
    "\n",
    "2)Изменим тип данных object на datetime для первого дня публикации, часы, минуты и секунды нам не понадобятся\n",
    "\n",
    "3)Изменим тип object на bool в is_apartment"
   ]
  },
  {
   "cell_type": "markdown",
   "metadata": {},
   "source": [
    "3.Поиск дубликатов"
   ]
  },
  {
   "cell_type": "code",
   "execution_count": 5,
   "metadata": {},
   "outputs": [
    {
     "name": "stdout",
     "output_type": "stream",
     "text": [
      "Кол-во уникальных названий до: 364\n",
      "Кол-во уникальных названий после 305\n",
      "Кол-во дубликатов среди объявлений 0\n"
     ]
    }
   ],
   "source": [
    "print(\"Кол-во уникальных названий до:\", len(data['locality_name'].unique()))\n",
    "for item in ['поселок ', 'посёлок ', 'деревня ', 'село ', 'городского типа ', 'городского типа ', \n",
    "             'городской ', 'коттеджный ', 'садовое товарищество ', 'станции ',  \n",
    "            'садоводческое некоммерческое товарищество ', 'при железнодорожной ', 'имени ']:\n",
    "    data['locality_name'] = data['locality_name'].str.replace(item, '')\n",
    "print(\"Кол-во уникальных названий после\", len(data['locality_name'].unique()))\n",
    "print(\"Кол-во дубликатов среди объявлений\", data.duplicated().sum()) "
   ]
  },
  {
   "cell_type": "markdown",
   "metadata": {},
   "source": [
    "В этом пункте я убрал все возможные имена нарицательные в названиях пунктов, т.к. они могут создавать неявные дубликаты, например \"Поселок X\" и \"Посёлок X\""
   ]
  },
  {
   "cell_type": "markdown",
   "metadata": {},
   "source": [
    "4.Устранение аномалий"
   ]
  },
  {
   "cell_type": "code",
   "execution_count": 6,
   "metadata": {},
   "outputs": [
    {
     "data": {
      "image/png": "[encoded data removed]",
      "text/plain": [
       "<Figure size 1080x1080 with 17 Axes>"
      ]
     },
     "metadata": {
      "needs_background": "light"
     },
     "output_type": "display_data"
    }
   ],
   "source": [
    "def bp(data, name):\n",
    "    plt.boxplot(data)\n",
    "    plt.title(name)\n",
    "    plt.tight_layout()\n",
    "\n",
    "data_bp = data.drop(['first_day_exposition', 'is_apartment', 'studio', 'open_plan', 'locality_name'], axis = 1)\n",
    "\n",
    "fig = plt.figure(figsize = (15, 15))\n",
    "for i in range(len(data_bp.columns)):\n",
    "    fig.add_subplot(4, 5, i+1)\n",
    "    bp(data_bp[data_bp.columns[i]], data_bp.columns[i])\n",
    "\n"
   ]
  },
  {
   "cell_type": "markdown",
   "metadata": {},
   "source": [
    "Аномалий много, но рубить с плеча бессмысленно, т.к. они могут быть обусловлены спецификой данных, например нет ничего удивительно, что так много выбросов в parks_nearest, ведь в основном нет парков ближе 3км, за счет чего медиана равна нулю. Но есть очевидные аномалии в некоторых столбцах:"
   ]
  },
  {
   "cell_type": "code",
   "execution_count": 7,
   "metadata": {
    "scrolled": false
   },
   "outputs": [],
   "source": [
    "#1\n",
    "data.loc[data['ceiling_height'] >= 20, 'ceiling_height'] = data.loc[data['ceiling_height'] >= 20, 'ceiling_height'] / 10\n",
    "data = data[data['ceiling_height'] >= 2] \n",
    "#2\n",
    "data = data[data['rooms'] < 10]\n",
    "data = data[data['rooms'] != 0] \n",
    "#3\n",
    "data = data[data['airports_nearest'] != 0]\n",
    "#4\n",
    "data.loc[data['last_price'] < 1000000, 'last_price'] = data.loc[data['last_price'] > 20, 'last_price'] * 10"
   ]
  },
  {
   "cell_type": "markdown",
   "metadata": {},
   "source": [
    "1)Делим значения высоты потолков, большие 20, на 10, т.к. это могли быть правильные значения с недописанной точкой, а также убираем значения потолков меньше двух, т.к. таких низких потолков скорее всего не существует \n",
    "\n",
    "2)Убираем объявления с двузначным числом комнат и нулевым\n",
    "\n",
    "3)Убираем единственную строку с 0 метров до аэропорта\n",
    "\n",
    "4)Домножаем значения в last_price, меньшие 1 000 000, на 10, т.к. это могли бы быть значения с недописанным нулем"
   ]
  },
  {
   "cell_type": "markdown",
   "metadata": {},
   "source": [
    "**Вывод по разделу:** В ходе работы были убраны дубликаты, пропуски и аномалии, а также изменены типы данных у половины столбцов. В последующих разделах предобработка данных поможет провести качественный анализ неискаженных  данных.\n",
    "    \n",
    "По ощущениям работа с предобработкой данных - это самое трудоемкое в анализе данных"
   ]
  },
  {
   "cell_type": "markdown",
   "metadata": {},
   "source": [
    "### Добавление в таблицу новых столбцов"
   ]
  },
  {
   "cell_type": "code",
   "execution_count": 8,
   "metadata": {},
   "outputs": [
    {
     "data": {
      "text/html": [
       "<div>\n",
       "<style scoped>\n",
       "    .dataframe tbody tr th:only-of-type {\n",
       "        vertical-align: middle;\n",
       "    }\n",
       "\n",
       "    .dataframe tbody tr th {\n",
       "        vertical-align: top;\n",
       "    }\n",
       "\n",
       "    .dataframe thead th {\n",
       "        text-align: right;\n",
       "    }\n",
       "</style>\n",
       "<table border=\"1\" class=\"dataframe\">\n",
       "  <thead>\n",
       "    <tr style=\"text-align: right;\">\n",
       "      <th></th>\n",
       "      <th>total_images</th>\n",
       "      <th>last_price</th>\n",
       "      <th>total_area</th>\n",
       "      <th>first_day_exposition</th>\n",
       "      <th>rooms</th>\n",
       "      <th>ceiling_height</th>\n",
       "      <th>floors_total</th>\n",
       "      <th>living_area</th>\n",
       "      <th>floor</th>\n",
       "      <th>is_apartment</th>\n",
       "      <th>...</th>\n",
       "      <th>parks_nearest</th>\n",
       "      <th>ponds_around3000</th>\n",
       "      <th>ponds_nearest</th>\n",
       "      <th>days_exposition</th>\n",
       "      <th>square_price</th>\n",
       "      <th>exposition_day</th>\n",
       "      <th>exposition_month</th>\n",
       "      <th>exposition_year</th>\n",
       "      <th>floor_category</th>\n",
       "      <th>cityCenters_nearest_km</th>\n",
       "    </tr>\n",
       "  </thead>\n",
       "  <tbody>\n",
       "    <tr>\n",
       "      <th>0</th>\n",
       "      <td>20</td>\n",
       "      <td>13000000.0</td>\n",
       "      <td>108.0</td>\n",
       "      <td>2019-03-07</td>\n",
       "      <td>3</td>\n",
       "      <td>2.70</td>\n",
       "      <td>16</td>\n",
       "      <td>51.0</td>\n",
       "      <td>8</td>\n",
       "      <td>False</td>\n",
       "      <td>...</td>\n",
       "      <td>482</td>\n",
       "      <td>2</td>\n",
       "      <td>755</td>\n",
       "      <td>95</td>\n",
       "      <td>120370</td>\n",
       "      <td>3</td>\n",
       "      <td>3</td>\n",
       "      <td>2019</td>\n",
       "      <td>Другой</td>\n",
       "      <td>16</td>\n",
       "    </tr>\n",
       "    <tr>\n",
       "      <th>1</th>\n",
       "      <td>7</td>\n",
       "      <td>3350000.0</td>\n",
       "      <td>40.4</td>\n",
       "      <td>2018-12-04</td>\n",
       "      <td>1</td>\n",
       "      <td>2.65</td>\n",
       "      <td>11</td>\n",
       "      <td>18.6</td>\n",
       "      <td>1</td>\n",
       "      <td>False</td>\n",
       "      <td>...</td>\n",
       "      <td>0</td>\n",
       "      <td>0</td>\n",
       "      <td>0</td>\n",
       "      <td>81</td>\n",
       "      <td>82920</td>\n",
       "      <td>1</td>\n",
       "      <td>12</td>\n",
       "      <td>2018</td>\n",
       "      <td>Первый</td>\n",
       "      <td>18</td>\n",
       "    </tr>\n",
       "    <tr>\n",
       "      <th>2</th>\n",
       "      <td>10</td>\n",
       "      <td>5196000.0</td>\n",
       "      <td>56.0</td>\n",
       "      <td>2015-08-20</td>\n",
       "      <td>2</td>\n",
       "      <td>2.65</td>\n",
       "      <td>5</td>\n",
       "      <td>34.3</td>\n",
       "      <td>4</td>\n",
       "      <td>False</td>\n",
       "      <td>...</td>\n",
       "      <td>90</td>\n",
       "      <td>2</td>\n",
       "      <td>574</td>\n",
       "      <td>558</td>\n",
       "      <td>92785</td>\n",
       "      <td>3</td>\n",
       "      <td>8</td>\n",
       "      <td>2015</td>\n",
       "      <td>Другой</td>\n",
       "      <td>13</td>\n",
       "    </tr>\n",
       "    <tr>\n",
       "      <th>3</th>\n",
       "      <td>0</td>\n",
       "      <td>64900000.0</td>\n",
       "      <td>159.0</td>\n",
       "      <td>2015-07-24</td>\n",
       "      <td>3</td>\n",
       "      <td>2.65</td>\n",
       "      <td>14</td>\n",
       "      <td>30.0</td>\n",
       "      <td>9</td>\n",
       "      <td>False</td>\n",
       "      <td>...</td>\n",
       "      <td>84</td>\n",
       "      <td>3</td>\n",
       "      <td>234</td>\n",
       "      <td>424</td>\n",
       "      <td>408176</td>\n",
       "      <td>4</td>\n",
       "      <td>7</td>\n",
       "      <td>2015</td>\n",
       "      <td>Другой</td>\n",
       "      <td>6</td>\n",
       "    </tr>\n",
       "    <tr>\n",
       "      <th>4</th>\n",
       "      <td>2</td>\n",
       "      <td>10000000.0</td>\n",
       "      <td>100.0</td>\n",
       "      <td>2018-06-19</td>\n",
       "      <td>2</td>\n",
       "      <td>3.03</td>\n",
       "      <td>14</td>\n",
       "      <td>32.0</td>\n",
       "      <td>13</td>\n",
       "      <td>False</td>\n",
       "      <td>...</td>\n",
       "      <td>112</td>\n",
       "      <td>1</td>\n",
       "      <td>48</td>\n",
       "      <td>121</td>\n",
       "      <td>100000</td>\n",
       "      <td>1</td>\n",
       "      <td>6</td>\n",
       "      <td>2018</td>\n",
       "      <td>Другой</td>\n",
       "      <td>8</td>\n",
       "    </tr>\n",
       "  </tbody>\n",
       "</table>\n",
       "<p>5 rows × 28 columns</p>\n",
       "</div>"
      ],
      "text/plain": [
       "   total_images  last_price  total_area first_day_exposition  rooms  \\\n",
       "0            20  13000000.0       108.0           2019-03-07      3   \n",
       "1             7   3350000.0        40.4           2018-12-04      1   \n",
       "2            10   5196000.0        56.0           2015-08-20      2   \n",
       "3             0  64900000.0       159.0           2015-07-24      3   \n",
       "4             2  10000000.0       100.0           2018-06-19      2   \n",
       "\n",
       "   ceiling_height  floors_total  living_area  floor  is_apartment  ...  \\\n",
       "0            2.70            16         51.0      8         False  ...   \n",
       "1            2.65            11         18.6      1         False  ...   \n",
       "2            2.65             5         34.3      4         False  ...   \n",
       "3            2.65            14         30.0      9         False  ...   \n",
       "4            3.03            14         32.0     13         False  ...   \n",
       "\n",
       "   parks_nearest  ponds_around3000  ponds_nearest  days_exposition  \\\n",
       "0            482                 2            755               95   \n",
       "1              0                 0              0               81   \n",
       "2             90                 2            574              558   \n",
       "3             84                 3            234              424   \n",
       "4            112                 1             48              121   \n",
       "\n",
       "  square_price  exposition_day  exposition_month  exposition_year  \\\n",
       "0       120370               3                 3             2019   \n",
       "1        82920               1                12             2018   \n",
       "2        92785               3                 8             2015   \n",
       "3       408176               4                 7             2015   \n",
       "4       100000               1                 6             2018   \n",
       "\n",
       "   floor_category  cityCenters_nearest_km  \n",
       "0          Другой                      16  \n",
       "1          Первый                      18  \n",
       "2          Другой                      13  \n",
       "3          Другой                       6  \n",
       "4          Другой                       8  \n",
       "\n",
       "[5 rows x 28 columns]"
      ]
     },
     "execution_count": 8,
     "metadata": {},
     "output_type": "execute_result"
    }
   ],
   "source": [
    "data['square_price'] = (data['last_price'] / data['total_area']).astype('int')\n",
    "\n",
    "data['exposition_day'] = pd.DatetimeIndex(data['first_day_exposition']).day_of_week\n",
    "data['exposition_month'] = pd.DatetimeIndex(data['first_day_exposition']).month\n",
    "data['exposition_year'] = pd.DatetimeIndex(data['first_day_exposition']).year\n",
    "\n",
    "\n",
    "def get_floor_category(row):\n",
    "    if row['floor'] == 1:\n",
    "        return 'Первый'\n",
    "    if row['floor'] == row['floors_total']:\n",
    "        return 'Последний'\n",
    "    return 'Другой'\n",
    "\n",
    "data['floor_category'] = data.apply(get_floor_category, axis = 1)\n",
    "\n",
    "data['cityCenters_nearest_km'] = (data['cityCenters_nearest'] / 1000).astype('int')\n",
    "\n",
    "data.head()"
   ]
  },
  {
   "cell_type": "markdown",
   "metadata": {},
   "source": [
    "Добавил столбцы с ценой за кв.метр, днем недели, месяцем и годом объявления, категорией этажа и с расстоянием до центра в км"
   ]
  },
  {
   "cell_type": "markdown",
   "metadata": {},
   "source": [
    "### Исследовательский анализ данных"
   ]
  },
  {
   "cell_type": "markdown",
   "metadata": {},
   "source": [
    "1.Исследование различных параметров"
   ]
  },
  {
   "cell_type": "code",
   "execution_count": 9,
   "metadata": {
    "scrolled": false
   },
   "outputs": [
    {
     "name": "stdout",
     "output_type": "stream",
     "text": [
      "         total_area   living_area  kitchen_area    last_price         rooms  \\\n",
      "count  23356.000000  23356.000000  23356.000000  2.335600e+04  23356.000000   \n",
      "mean      60.444723     34.137789     10.423003  6.605057e+06      2.082848   \n",
      "std       34.767654     20.740537      5.581207  1.057729e+07      1.038680   \n",
      "min       12.000000      2.000000      1.300000  1.219000e+05      1.000000   \n",
      "25%       40.200000     19.200000      7.300000  3.500000e+06      1.000000   \n",
      "50%       52.000000     30.000000      9.100000  4.700000e+06      2.000000   \n",
      "75%       70.000000     41.300000     11.500000  6.900000e+06      3.000000   \n",
      "max      631.200000    347.500000    107.000000  7.630000e+08      9.000000   \n",
      "\n",
      "       ceiling_height         floor  floors_total  cityCenters_nearest  \\\n",
      "count    23356.000000  23356.000000  23356.000000         23356.000000   \n",
      "mean         2.698573      5.856397     10.625107         13947.696780   \n",
      "std          0.252882      4.851282      6.565532          7577.361561   \n",
      "min          2.000000      1.000000      1.000000           181.000000   \n",
      "25%          2.600000      2.000000      5.000000         10914.000000   \n",
      "50%          2.650000      4.000000      9.000000         13105.000000   \n",
      "75%          2.700000      8.000000     16.000000         15247.750000   \n",
      "max         14.000000     33.000000     60.000000         65968.000000   \n",
      "\n",
      "       airports_nearest  exposition_day  exposition_month  parks_nearest  \n",
      "count      23356.000000    23356.000000      23356.000000   23356.000000  \n",
      "mean       28346.273677        2.566150          6.395873     167.805575  \n",
      "std        11095.089574        1.789127          3.492045     306.746452  \n",
      "min         6450.000000        0.000000          1.000000       0.000000  \n",
      "25%        21189.500000        1.000000          3.000000       0.000000  \n",
      "50%        26756.000000        3.000000          6.000000       0.000000  \n",
      "75%        34420.000000        4.000000         10.000000     303.000000  \n",
      "max        84869.000000        6.000000         12.000000    3190.000000  \n"
     ]
    },
    {
     "data": {
      "image/png": "[encoded data removed]",
      "text/plain": [
       "<Figure size 1080x1080 with 4 Axes>"
      ]
     },
     "metadata": {
      "needs_background": "light"
     },
     "output_type": "display_data"
    }
   ],
   "source": [
    "parametrs = ['total_area', 'living_area', 'kitchen_area', 'last_price', 'rooms', \n",
    "             'ceiling_height', 'floor', 'floor_category', 'floors_total', 'cityCenters_nearest',\n",
    "             'airports_nearest', 'exposition_day', 'exposition_month', 'parks_nearest']\n",
    "data_parametrs = data.loc[:, parametrs]\n",
    "print(data_parametrs.describe())\n",
    "fig = plt.figure(figsize = (15, 15))\n",
    "fig.add_subplot(2, 2, 1)\n",
    "sns.kdeplot(data_parametrs['total_area'], color = 'g')\n",
    "# data_parametrs['total_area'].hist(bins = 20, range = (0, 400), legend = True)\n",
    "plt.tight_layout()\n",
    "fig.add_subplot(2, 2, 2)\n",
    "sns.kdeplot(data_parametrs['living_area'], color = 'g')\n",
    "# data_parametrs['living_area'].hist(bins = 20, range = (0, 200), legend = True)\n",
    "plt.tight_layout()\n",
    "fig.add_subplot(2, 2, 3)\n",
    "sns.kdeplot(data_parametrs['kitchen_area'], color = 'g')\n",
    "# data_parametrs['kitchen_area'].hist(bins = 20, range = (0, 80), legend = True)\n",
    "plt.tight_layout()\n",
    "fig.add_subplot(2, 2, 4)\n",
    "sns.kdeplot(data_parametrs['last_price'], color = 'g')\n",
    "# data_parametrs['last_price'].hist(bins = 15, range = (1000000, 14000000), legend = True)\n",
    "plt.tight_layout()"
   ]
  },
  {
   "cell_type": "markdown",
   "metadata": {},
   "source": [
    "По данным графикам видно, что у этих параметров смещенное нормальное распределение"
   ]
  },
  {
   "cell_type": "code",
   "execution_count": 10,
   "metadata": {},
   "outputs": [
    {
     "data": {
      "image/png": "[encoded data removed]",
      "text/plain": [
       "<Figure size 432x288 with 1 Axes>"
      ]
     },
     "metadata": {
      "needs_background": "light"
     },
     "output_type": "display_data"
    }
   ],
   "source": [
    "data_parametrs['rooms'].hist(bins = 15, range = (0, 10), legend = True)\n",
    "plt.show()"
   ]
  },
  {
   "cell_type": "markdown",
   "metadata": {},
   "source": [
    "По данной гистограмме можно сказать, что в основном продаются квартиры от 1 до 3 комнат."
   ]
  },
  {
   "cell_type": "code",
   "execution_count": 11,
   "metadata": {},
   "outputs": [
    {
     "data": {
      "image/png": "[encoded data removed]",
      "text/plain": [
       "<Figure size 432x288 with 1 Axes>"
      ]
     },
     "metadata": {
      "needs_background": "light"
     },
     "output_type": "display_data"
    }
   ],
   "source": [
    "data_parametrs['ceiling_height'].hist(bins = 15, range = (2, 5), legend = True)\n",
    "plt.show()"
   ]
  },
  {
   "cell_type": "markdown",
   "metadata": {},
   "source": [
    "Можно сказать, что в большинстве квартир потолки от 2.4м до 2.8м"
   ]
  },
  {
   "cell_type": "code",
   "execution_count": 12,
   "metadata": {
    "scrolled": true
   },
   "outputs": [
    {
     "data": {
      "image/png": "[encoded data removed]",
      "text/plain": [
       "<Figure size 432x288 with 1 Axes>"
      ]
     },
     "metadata": {
      "needs_background": "light"
     },
     "output_type": "display_data"
    },
    {
     "data": {
      "image/png": "[encoded data removed]",
      "text/plain": [
       "<Figure size 432x288 with 1 Axes>"
      ]
     },
     "metadata": {
      "needs_background": "light"
     },
     "output_type": "display_data"
    },
    {
     "data": {
      "image/png": "[encoded data removed]",
      "text/plain": [
       "<Figure size 432x288 with 1 Axes>"
      ]
     },
     "metadata": {
      "needs_background": "light"
     },
     "output_type": "display_data"
    }
   ],
   "source": [
    "data_parametrs['floor'].hist(legend = True)\n",
    "plt.show()\n",
    "data_parametrs['floors_total'].hist(bins = 10, range = (0, 40), legend = True)\n",
    "plt.show()\n",
    "data_parametrs['floor_category'].hist(bins = 3, range = (0, 3), legend = True)\n",
    "plt.show()"
   ]
  },
  {
   "cell_type": "markdown",
   "metadata": {},
   "source": [
    "По графику floors видно, что большинство квартир расположены до десятого этажа, соотетственно это же можно посмотреть на графике floors_total(большинство зданий не превышают 10-ти этажей). Квартиры на последнем этаже продают чаще.\n"
   ]
  },
  {
   "cell_type": "code",
   "execution_count": 13,
   "metadata": {},
   "outputs": [
    {
     "data": {
      "image/png": "[encoded data removed]",
      "text/plain": [
       "<Figure size 432x288 with 1 Axes>"
      ]
     },
     "metadata": {
      "needs_background": "light"
     },
     "output_type": "display_data"
    },
    {
     "data": {
      "image/png": "[encoded data removed]",
      "text/plain": [
       "<Figure size 432x288 with 1 Axes>"
      ]
     },
     "metadata": {
      "needs_background": "light"
     },
     "output_type": "display_data"
    }
   ],
   "source": [
    "data_parametrs['cityCenters_nearest'].hist(legend = True)\n",
    "plt.show()\n",
    "data_parametrs['airports_nearest'].hist(legend = True)\n",
    "plt.show()"
   ]
  },
  {
   "cell_type": "code",
   "execution_count": 14,
   "metadata": {
    "scrolled": true
   },
   "outputs": [
    {
     "data": {
      "image/png": "[encoded data removed]",
      "text/plain": [
       "<Figure size 432x288 with 1 Axes>"
      ]
     },
     "metadata": {
      "needs_background": "light"
     },
     "output_type": "display_data"
    },
    {
     "data": {
      "image/png": "[encoded data removed]",
      "text/plain": [
       "<Figure size 432x288 with 1 Axes>"
      ]
     },
     "metadata": {
      "needs_background": "light"
     },
     "output_type": "display_data"
    }
   ],
   "source": [
    "data_parametrs['exposition_day'].hist(legend = True)\n",
    "plt.show()\n",
    "data_parametrs['exposition_month'].hist(legend = True)\n",
    "plt.show()"
   ]
  },
  {
   "cell_type": "markdown",
   "metadata": {},
   "source": [
    "По графикам можно заметить, что реже всего выставляют объявления в выходные, предпологаю, что это связано с работой риелторов, т.е. люди продают квартиры с помощью риелтора, и соответственно риелтор выставляет на продажу квартиру в свой рабочий день. \n",
    "\n",
    "Также можно заметить, что в основном продают квартиры в декабре и январе, может быть это связано с новогодними праздниками\n"
   ]
  },
  {
   "cell_type": "code",
   "execution_count": 15,
   "metadata": {
    "scrolled": true
   },
   "outputs": [
    {
     "data": {
      "image/png": "[encoded data removed]",
      "text/plain": [
       "<Figure size 432x288 with 1 Axes>"
      ]
     },
     "metadata": {
      "needs_background": "light"
     },
     "output_type": "display_data"
    }
   ],
   "source": [
    "data_parametrs['parks_nearest'].hist(legend = True)\n",
    "plt.show()"
   ]
  },
  {
   "cell_type": "markdown",
   "metadata": {},
   "source": [
    "У большинства квартир рядом нет парков"
   ]
  },
  {
   "cell_type": "markdown",
   "metadata": {},
   "source": [
    "2.Изучение того как быстро продавались квартиры"
   ]
  },
  {
   "cell_type": "code",
   "execution_count": 16,
   "metadata": {
    "scrolled": true
   },
   "outputs": [
    {
     "data": {
      "text/plain": [
       "95    3217\n",
       "45     868\n",
       "60     533\n",
       "7      228\n",
       "30     202\n",
       "90     199\n",
       "4      171\n",
       "3      154\n",
       "5      148\n",
       "14     144\n",
       "9      141\n",
       "20     137\n",
       "8      137\n",
       "44     136\n",
       "11     133\n",
       "Name: days_exposition, dtype: int64"
      ]
     },
     "metadata": {},
     "output_type": "display_data"
    }
   ],
   "source": [
    "display(data['days_exposition'].value_counts().head(15))"
   ]
  },
  {
   "cell_type": "markdown",
   "metadata": {},
   "source": [
    "Можно увидеть, что значения 95, 45, 60, 7, 90, 30, которые встречаются чаще всего и как раз кратны пяти(или равны количеству дней в неделе). Я предпологаю, что в эти дни платформа автоматически убирает объявления"
   ]
  },
  {
   "cell_type": "code",
   "execution_count": 18,
   "metadata": {},
   "outputs": [
    {
     "data": {
      "text/plain": [
       "count    18109.000000\n",
       "mean       196.602849\n",
       "std        227.265051\n",
       "min          1.000000\n",
       "25%         44.000000\n",
       "50%        115.000000\n",
       "75%        260.000000\n",
       "max       1580.000000\n",
       "Name: days_exposition, dtype: float64"
      ]
     },
     "metadata": {},
     "output_type": "display_data"
    },
    {
     "data": {
      "image/png": "[encoded data removed]",
      "text/plain": [
       "<Figure size 432x288 with 1 Axes>"
      ]
     },
     "metadata": {
      "needs_background": "light"
     },
     "output_type": "display_data"
    }
   ],
   "source": [
    "days_exposition_data = data.loc[~data['days_exposition'].isin([95, 45, 60, 7, 30, 90])]\n",
    "display(days_exposition_data['days_exposition'].describe())\n",
    "days_exposition_data['days_exposition'].hist(bins = 30)\n",
    "plt.show()"
   ]
  },
  {
   "cell_type": "markdown",
   "metadata": {},
   "source": [
    "**Вывод:** Необычайно долгими можно считать продажи более одного года, это видно по графику, это же нам показывает третий квартиль при вызове ф-ии describe"
   ]
  },
  {
   "cell_type": "markdown",
   "metadata": {},
   "source": [
    "3.Какие параметры больше всего влияют на стоимость объекта"
   ]
  },
  {
   "cell_type": "code",
   "execution_count": 19,
   "metadata": {
    "scrolled": false
   },
   "outputs": [
    {
     "data": {
      "image/png": "[encoded data removed]",
      "text/plain": [
       "<Figure size 1080x720 with 2 Axes>"
      ]
     },
     "metadata": {
      "needs_background": "light"
     },
     "output_type": "display_data"
    },
    {
     "data": {
      "text/html": [
       "<div>\n",
       "<style scoped>\n",
       "    .dataframe tbody tr th:only-of-type {\n",
       "        vertical-align: middle;\n",
       "    }\n",
       "\n",
       "    .dataframe tbody tr th {\n",
       "        vertical-align: top;\n",
       "    }\n",
       "\n",
       "    .dataframe thead th {\n",
       "        text-align: right;\n",
       "    }\n",
       "</style>\n",
       "<table border=\"1\" class=\"dataframe\">\n",
       "  <thead>\n",
       "    <tr style=\"text-align: right;\">\n",
       "      <th></th>\n",
       "      <th>last_price</th>\n",
       "    </tr>\n",
       "    <tr>\n",
       "      <th>floor_category</th>\n",
       "      <th></th>\n",
       "    </tr>\n",
       "  </thead>\n",
       "  <tbody>\n",
       "    <tr>\n",
       "      <th>Другой</th>\n",
       "      <td>4900000.0</td>\n",
       "    </tr>\n",
       "    <tr>\n",
       "      <th>Первый</th>\n",
       "      <td>4000000.0</td>\n",
       "    </tr>\n",
       "    <tr>\n",
       "      <th>Последний</th>\n",
       "      <td>4450000.0</td>\n",
       "    </tr>\n",
       "  </tbody>\n",
       "</table>\n",
       "</div>"
      ],
      "text/plain": [
       "                last_price\n",
       "floor_category            \n",
       "Другой           4900000.0\n",
       "Первый           4000000.0\n",
       "Последний        4450000.0"
      ]
     },
     "metadata": {},
     "output_type": "display_data"
    },
    {
     "data": {
      "text/html": [
       "<div>\n",
       "<style scoped>\n",
       "    .dataframe tbody tr th:only-of-type {\n",
       "        vertical-align: middle;\n",
       "    }\n",
       "\n",
       "    .dataframe tbody tr th {\n",
       "        vertical-align: top;\n",
       "    }\n",
       "\n",
       "    .dataframe thead th {\n",
       "        text-align: right;\n",
       "    }\n",
       "</style>\n",
       "<table border=\"1\" class=\"dataframe\">\n",
       "  <thead>\n",
       "    <tr style=\"text-align: right;\">\n",
       "      <th></th>\n",
       "      <th>last_price</th>\n",
       "    </tr>\n",
       "    <tr>\n",
       "      <th>exposition_day</th>\n",
       "      <th></th>\n",
       "    </tr>\n",
       "  </thead>\n",
       "  <tbody>\n",
       "    <tr>\n",
       "      <th>6</th>\n",
       "      <td>4590000.0</td>\n",
       "    </tr>\n",
       "    <tr>\n",
       "      <th>4</th>\n",
       "      <td>4650000.0</td>\n",
       "    </tr>\n",
       "    <tr>\n",
       "      <th>5</th>\n",
       "      <td>4650000.0</td>\n",
       "    </tr>\n",
       "    <tr>\n",
       "      <th>0</th>\n",
       "      <td>4700000.0</td>\n",
       "    </tr>\n",
       "    <tr>\n",
       "      <th>3</th>\n",
       "      <td>4700000.0</td>\n",
       "    </tr>\n",
       "    <tr>\n",
       "      <th>1</th>\n",
       "      <td>4800000.0</td>\n",
       "    </tr>\n",
       "    <tr>\n",
       "      <th>2</th>\n",
       "      <td>4800000.0</td>\n",
       "    </tr>\n",
       "  </tbody>\n",
       "</table>\n",
       "</div>"
      ],
      "text/plain": [
       "                last_price\n",
       "exposition_day            \n",
       "6                4590000.0\n",
       "4                4650000.0\n",
       "5                4650000.0\n",
       "0                4700000.0\n",
       "3                4700000.0\n",
       "1                4800000.0\n",
       "2                4800000.0"
      ]
     },
     "metadata": {},
     "output_type": "display_data"
    },
    {
     "data": {
      "text/html": [
       "<div>\n",
       "<style scoped>\n",
       "    .dataframe tbody tr th:only-of-type {\n",
       "        vertical-align: middle;\n",
       "    }\n",
       "\n",
       "    .dataframe tbody tr th {\n",
       "        vertical-align: top;\n",
       "    }\n",
       "\n",
       "    .dataframe thead th {\n",
       "        text-align: right;\n",
       "    }\n",
       "</style>\n",
       "<table border=\"1\" class=\"dataframe\">\n",
       "  <thead>\n",
       "    <tr style=\"text-align: right;\">\n",
       "      <th></th>\n",
       "      <th>last_price</th>\n",
       "    </tr>\n",
       "    <tr>\n",
       "      <th>exposition_month</th>\n",
       "      <th></th>\n",
       "    </tr>\n",
       "  </thead>\n",
       "  <tbody>\n",
       "    <tr>\n",
       "      <th>6</th>\n",
       "      <td>4500000.0</td>\n",
       "    </tr>\n",
       "    <tr>\n",
       "      <th>5</th>\n",
       "      <td>4600000.0</td>\n",
       "    </tr>\n",
       "    <tr>\n",
       "      <th>10</th>\n",
       "      <td>4600000.0</td>\n",
       "    </tr>\n",
       "    <tr>\n",
       "      <th>8</th>\n",
       "      <td>4620000.0</td>\n",
       "    </tr>\n",
       "    <tr>\n",
       "      <th>1</th>\n",
       "      <td>4700000.0</td>\n",
       "    </tr>\n",
       "    <tr>\n",
       "      <th>3</th>\n",
       "      <td>4700000.0</td>\n",
       "    </tr>\n",
       "    <tr>\n",
       "      <th>7</th>\n",
       "      <td>4700000.0</td>\n",
       "    </tr>\n",
       "    <tr>\n",
       "      <th>2</th>\n",
       "      <td>4750000.0</td>\n",
       "    </tr>\n",
       "    <tr>\n",
       "      <th>12</th>\n",
       "      <td>4750000.0</td>\n",
       "    </tr>\n",
       "    <tr>\n",
       "      <th>11</th>\n",
       "      <td>4780000.0</td>\n",
       "    </tr>\n",
       "    <tr>\n",
       "      <th>9</th>\n",
       "      <td>4800000.0</td>\n",
       "    </tr>\n",
       "    <tr>\n",
       "      <th>4</th>\n",
       "      <td>4850000.0</td>\n",
       "    </tr>\n",
       "  </tbody>\n",
       "</table>\n",
       "</div>"
      ],
      "text/plain": [
       "                  last_price\n",
       "exposition_month            \n",
       "6                  4500000.0\n",
       "5                  4600000.0\n",
       "10                 4600000.0\n",
       "8                  4620000.0\n",
       "1                  4700000.0\n",
       "3                  4700000.0\n",
       "7                  4700000.0\n",
       "2                  4750000.0\n",
       "12                 4750000.0\n",
       "11                 4780000.0\n",
       "9                  4800000.0\n",
       "4                  4850000.0"
      ]
     },
     "metadata": {},
     "output_type": "display_data"
    },
    {
     "data": {
      "text/html": [
       "<div>\n",
       "<style scoped>\n",
       "    .dataframe tbody tr th:only-of-type {\n",
       "        vertical-align: middle;\n",
       "    }\n",
       "\n",
       "    .dataframe tbody tr th {\n",
       "        vertical-align: top;\n",
       "    }\n",
       "\n",
       "    .dataframe thead th {\n",
       "        text-align: right;\n",
       "    }\n",
       "</style>\n",
       "<table border=\"1\" class=\"dataframe\">\n",
       "  <thead>\n",
       "    <tr style=\"text-align: right;\">\n",
       "      <th></th>\n",
       "      <th>last_price</th>\n",
       "    </tr>\n",
       "    <tr>\n",
       "      <th>exposition_year</th>\n",
       "      <th></th>\n",
       "    </tr>\n",
       "  </thead>\n",
       "  <tbody>\n",
       "    <tr>\n",
       "      <th>2017</th>\n",
       "      <td>4550000.0</td>\n",
       "    </tr>\n",
       "    <tr>\n",
       "      <th>2016</th>\n",
       "      <td>4600000.0</td>\n",
       "    </tr>\n",
       "    <tr>\n",
       "      <th>2018</th>\n",
       "      <td>4650000.0</td>\n",
       "    </tr>\n",
       "    <tr>\n",
       "      <th>2019</th>\n",
       "      <td>5120000.0</td>\n",
       "    </tr>\n",
       "    <tr>\n",
       "      <th>2015</th>\n",
       "      <td>5350000.0</td>\n",
       "    </tr>\n",
       "    <tr>\n",
       "      <th>2014</th>\n",
       "      <td>7640000.0</td>\n",
       "    </tr>\n",
       "  </tbody>\n",
       "</table>\n",
       "</div>"
      ],
      "text/plain": [
       "                 last_price\n",
       "exposition_year            \n",
       "2017              4550000.0\n",
       "2016              4600000.0\n",
       "2018              4650000.0\n",
       "2019              5120000.0\n",
       "2015              5350000.0\n",
       "2014              7640000.0"
      ]
     },
     "metadata": {},
     "output_type": "display_data"
    },
    {
     "data": {
      "image/png": "[encoded data removed]",
      "text/plain": [
       "<Figure size 1080x1080 with 9 Axes>"
      ]
     },
     "metadata": {
      "needs_background": "light"
     },
     "output_type": "display_data"
    }
   ],
   "source": [
    "columns = ['last_price', 'total_area', 'living_area', 'kitchen_area', 'rooms', \n",
    "           'floor_category', 'exposition_day', 'exposition_month', 'exposition_year']\n",
    "data_price = data.loc[: , columns]\n",
    "plt.figure(figsize = (15, 10))\n",
    "sns.heatmap(data_price.corr(), annot = True)\n",
    "plt.show()\n",
    "display(data_price.pivot_table(index = 'floor_category', values = 'last_price', aggfunc = 'median'))    \n",
    "display(data_price.pivot_table(index = 'exposition_day', values = 'last_price', aggfunc = 'median').sort_values('last_price'))    \n",
    "display(data_price.pivot_table(index = 'exposition_month', values = 'last_price', aggfunc = 'median').sort_values('last_price'))    \n",
    "display(data_price.pivot_table(index = 'exposition_year', values = 'last_price', aggfunc = 'median').sort_values('last_price'))    \n",
    "\n",
    "fig = plt.figure(figsize = (15, 15))\n",
    "for i in range(len(data_price.columns)):\n",
    "    fig.add_subplot(3, 3, i+1)\n",
    "    plt.scatter(data_price[data_price.columns[i]], data_price['last_price'], alpha = 0.5)\n",
    "    plt.title(data_price.columns[i])\n",
    "    plt.ylim((100000, 100000000))\n",
    "    plt.tight_layout()\n"
   ]
  },
  {
   "cell_type": "markdown",
   "metadata": {},
   "source": [
    "Вывод: \n",
    "\n",
    "1)Общая цена положительно зависит от площади(общая, жил., кухня) и количества комнат, но не полностью, т.е. корреляция положительна но не близка к 1\n",
    "\n",
    "2)Первый этаж обычно дешевле остальных\n",
    "\n",
    "3)Разницы в цене из-за продажи в определенный день или месяц не наблюдается, кроме того что в воскресенье не так много дорогих квартир выставляется на продажу\n",
    "\n",
    "4)По медианным значениям можно сказать, что квартиры с 2014 года дешевели, а с 2018 начали дорожать"
   ]
  },
  {
   "cell_type": "markdown",
   "metadata": {},
   "source": [
    "Рассмотрим динамику цены и площади продаваемых квартир\n"
   ]
  },
  {
   "cell_type": "code",
   "execution_count": 20,
   "metadata": {},
   "outputs": [
    {
     "data": {
      "text/html": [
       "<div>\n",
       "<style scoped>\n",
       "    .dataframe tbody tr th:only-of-type {\n",
       "        vertical-align: middle;\n",
       "    }\n",
       "\n",
       "    .dataframe tbody tr th {\n",
       "        vertical-align: top;\n",
       "    }\n",
       "\n",
       "    .dataframe thead tr th {\n",
       "        text-align: left;\n",
       "    }\n",
       "\n",
       "    .dataframe thead tr:last-of-type th {\n",
       "        text-align: right;\n",
       "    }\n",
       "</style>\n",
       "<table border=\"1\" class=\"dataframe\">\n",
       "  <thead>\n",
       "    <tr>\n",
       "      <th></th>\n",
       "      <th colspan=\"2\" halign=\"left\">median</th>\n",
       "    </tr>\n",
       "    <tr>\n",
       "      <th></th>\n",
       "      <th>total_area</th>\n",
       "      <th>last_price</th>\n",
       "    </tr>\n",
       "    <tr>\n",
       "      <th>exposition_year</th>\n",
       "      <th></th>\n",
       "      <th></th>\n",
       "    </tr>\n",
       "  </thead>\n",
       "  <tbody>\n",
       "    <tr>\n",
       "      <th>2014</th>\n",
       "      <td>76.18</td>\n",
       "      <td>7640000.0</td>\n",
       "    </tr>\n",
       "    <tr>\n",
       "      <th>2015</th>\n",
       "      <td>60.00</td>\n",
       "      <td>5350000.0</td>\n",
       "    </tr>\n",
       "    <tr>\n",
       "      <th>2016</th>\n",
       "      <td>53.10</td>\n",
       "      <td>4600000.0</td>\n",
       "    </tr>\n",
       "    <tr>\n",
       "      <th>2017</th>\n",
       "      <td>52.00</td>\n",
       "      <td>4550000.0</td>\n",
       "    </tr>\n",
       "    <tr>\n",
       "      <th>2018</th>\n",
       "      <td>50.80</td>\n",
       "      <td>4650000.0</td>\n",
       "    </tr>\n",
       "    <tr>\n",
       "      <th>2019</th>\n",
       "      <td>52.00</td>\n",
       "      <td>5120000.0</td>\n",
       "    </tr>\n",
       "  </tbody>\n",
       "</table>\n",
       "</div>"
      ],
      "text/plain": [
       "                    median           \n",
       "                total_area last_price\n",
       "exposition_year                      \n",
       "2014                 76.18  7640000.0\n",
       "2015                 60.00  5350000.0\n",
       "2016                 53.10  4600000.0\n",
       "2017                 52.00  4550000.0\n",
       "2018                 50.80  4650000.0\n",
       "2019                 52.00  5120000.0"
      ]
     },
     "execution_count": 20,
     "metadata": {},
     "output_type": "execute_result"
    }
   ],
   "source": [
    "new = data.pivot_table(index = 'exposition_year', values = 'last_price', aggfunc = ['median'])\n",
    "data.pivot_table(index = 'exposition_year', values = 'total_area', aggfunc = ['median']).join(new)"
   ]
  },
  {
   "cell_type": "markdown",
   "metadata": {},
   "source": [
    "**Вывод:** Со временем падала площадь продаваемых квартир и, как следствие, цена </div>"
   ]
  },
  {
   "cell_type": "markdown",
   "metadata": {},
   "source": [
    "4.Топ 10 населенных пунктов по средней стоимости квадратного метра"
   ]
  },
  {
   "cell_type": "code",
   "execution_count": 21,
   "metadata": {
    "scrolled": true
   },
   "outputs": [
    {
     "data": {
      "text/html": [
       "<div>\n",
       "<style scoped>\n",
       "    .dataframe tbody tr th:only-of-type {\n",
       "        vertical-align: middle;\n",
       "    }\n",
       "\n",
       "    .dataframe tbody tr th {\n",
       "        vertical-align: top;\n",
       "    }\n",
       "\n",
       "    .dataframe thead th {\n",
       "        text-align: right;\n",
       "    }\n",
       "</style>\n",
       "<table border=\"1\" class=\"dataframe\">\n",
       "  <thead>\n",
       "    <tr style=\"text-align: right;\">\n",
       "      <th></th>\n",
       "      <th>count</th>\n",
       "      <th>median</th>\n",
       "    </tr>\n",
       "    <tr>\n",
       "      <th>locality_name</th>\n",
       "      <th></th>\n",
       "      <th></th>\n",
       "    </tr>\n",
       "  </thead>\n",
       "  <tbody>\n",
       "    <tr>\n",
       "      <th>Выборг</th>\n",
       "      <td>237</td>\n",
       "      <td>58666.0</td>\n",
       "    </tr>\n",
       "    <tr>\n",
       "      <th>Всеволожск</th>\n",
       "      <td>392</td>\n",
       "      <td>65789.0</td>\n",
       "    </tr>\n",
       "    <tr>\n",
       "      <th>Гатчина</th>\n",
       "      <td>307</td>\n",
       "      <td>67924.0</td>\n",
       "    </tr>\n",
       "    <tr>\n",
       "      <th>Колпино</th>\n",
       "      <td>338</td>\n",
       "      <td>74723.5</td>\n",
       "    </tr>\n",
       "    <tr>\n",
       "      <th>Шушары</th>\n",
       "      <td>435</td>\n",
       "      <td>76666.0</td>\n",
       "    </tr>\n",
       "    <tr>\n",
       "      <th>Мурино</th>\n",
       "      <td>559</td>\n",
       "      <td>84968.0</td>\n",
       "    </tr>\n",
       "    <tr>\n",
       "      <th>Парголово</th>\n",
       "      <td>323</td>\n",
       "      <td>91917.0</td>\n",
       "    </tr>\n",
       "    <tr>\n",
       "      <th>Кудрово</th>\n",
       "      <td>449</td>\n",
       "      <td>95185.0</td>\n",
       "    </tr>\n",
       "    <tr>\n",
       "      <th>Пушкин</th>\n",
       "      <td>369</td>\n",
       "      <td>100000.0</td>\n",
       "    </tr>\n",
       "    <tr>\n",
       "      <th>Санкт-Петербург</th>\n",
       "      <td>15528</td>\n",
       "      <td>104650.0</td>\n",
       "    </tr>\n",
       "  </tbody>\n",
       "</table>\n",
       "</div>"
      ],
      "text/plain": [
       "                 count    median\n",
       "locality_name                   \n",
       "Выборг             237   58666.0\n",
       "Всеволожск         392   65789.0\n",
       "Гатчина            307   67924.0\n",
       "Колпино            338   74723.5\n",
       "Шушары             435   76666.0\n",
       "Мурино             559   84968.0\n",
       "Парголово          323   91917.0\n",
       "Кудрово            449   95185.0\n",
       "Пушкин             369  100000.0\n",
       "Санкт-Петербург  15528  104650.0"
      ]
     },
     "execution_count": 21,
     "metadata": {},
     "output_type": "execute_result"
    }
   ],
   "source": [
    "data_locality = data.pivot_table(index = 'locality_name', values = 'square_price', aggfunc = ['count', 'median'])\n",
    "data_locality.columns = ['count', 'median']\n",
    "data_locality = data_locality.sort_values('count', ascending = False).head(10)\n",
    "data_locality.sort_values('median')"
   ]
  },
  {
   "cell_type": "markdown",
   "metadata": {},
   "source": [
    "**Вывод:** Самый дорогой квадратный метр в Санкт-Петербурге, а самый дешевый в Выборге"
   ]
  },
  {
   "cell_type": "markdown",
   "metadata": {},
   "source": [
    "5.Средняя цена километра в Санкт-Петербурге"
   ]
  },
  {
   "cell_type": "code",
   "execution_count": 22,
   "metadata": {
    "scrolled": false
   },
   "outputs": [
    {
     "data": {
      "text/html": [
       "<div>\n",
       "<style scoped>\n",
       "    .dataframe tbody tr th:only-of-type {\n",
       "        vertical-align: middle;\n",
       "    }\n",
       "\n",
       "    .dataframe tbody tr th {\n",
       "        vertical-align: top;\n",
       "    }\n",
       "\n",
       "    .dataframe thead th {\n",
       "        text-align: right;\n",
       "    }\n",
       "</style>\n",
       "<table border=\"1\" class=\"dataframe\">\n",
       "  <thead>\n",
       "    <tr style=\"text-align: right;\">\n",
       "      <th></th>\n",
       "      <th>count</th>\n",
       "      <th>mean</th>\n",
       "    </tr>\n",
       "    <tr>\n",
       "      <th>cityCenters_nearest_km</th>\n",
       "      <th></th>\n",
       "      <th></th>\n",
       "    </tr>\n",
       "  </thead>\n",
       "  <tbody>\n",
       "    <tr>\n",
       "      <th>0</th>\n",
       "      <td>86</td>\n",
       "      <td>187323.674419</td>\n",
       "    </tr>\n",
       "    <tr>\n",
       "      <th>1</th>\n",
       "      <td>238</td>\n",
       "      <td>166803.731092</td>\n",
       "    </tr>\n",
       "    <tr>\n",
       "      <th>6</th>\n",
       "      <td>466</td>\n",
       "      <td>152114.886266</td>\n",
       "    </tr>\n",
       "    <tr>\n",
       "      <th>5</th>\n",
       "      <td>764</td>\n",
       "      <td>147030.400524</td>\n",
       "    </tr>\n",
       "    <tr>\n",
       "      <th>2</th>\n",
       "      <td>304</td>\n",
       "      <td>146847.815789</td>\n",
       "    </tr>\n",
       "    <tr>\n",
       "      <th>7</th>\n",
       "      <td>402</td>\n",
       "      <td>140827.601990</td>\n",
       "    </tr>\n",
       "    <tr>\n",
       "      <th>4</th>\n",
       "      <td>897</td>\n",
       "      <td>137468.350056</td>\n",
       "    </tr>\n",
       "    <tr>\n",
       "      <th>27</th>\n",
       "      <td>2</td>\n",
       "      <td>132115.000000</td>\n",
       "    </tr>\n",
       "    <tr>\n",
       "      <th>3</th>\n",
       "      <td>520</td>\n",
       "      <td>129729.519231</td>\n",
       "    </tr>\n",
       "    <tr>\n",
       "      <th>8</th>\n",
       "      <td>662</td>\n",
       "      <td>120498.871601</td>\n",
       "    </tr>\n",
       "  </tbody>\n",
       "</table>\n",
       "</div>"
      ],
      "text/plain": [
       "                        count           mean\n",
       "cityCenters_nearest_km                      \n",
       "0                          86  187323.674419\n",
       "1                         238  166803.731092\n",
       "6                         466  152114.886266\n",
       "5                         764  147030.400524\n",
       "2                         304  146847.815789\n",
       "7                         402  140827.601990\n",
       "4                         897  137468.350056\n",
       "27                          2  132115.000000\n",
       "3                         520  129729.519231\n",
       "8                         662  120498.871601"
      ]
     },
     "metadata": {},
     "output_type": "display_data"
    },
    {
     "data": {
      "image/png": "[encoded data removed]",
      "text/plain": [
       "<Figure size 432x288 with 1 Axes>"
      ]
     },
     "metadata": {
      "needs_background": "light"
     },
     "output_type": "display_data"
    }
   ],
   "source": [
    "data_km = data[data['locality_name'] == 'Санкт-Петербург']\n",
    "data_km = data_km.pivot_table(index = 'cityCenters_nearest_km', values = 'square_price', aggfunc = ['count', 'mean'])\n",
    "data_km.columns = ['count', 'mean']\n",
    "display(data_km.sort_values('mean', ascending = False).head(10))\n",
    "data_km.plot(y = 'mean', kind = 'bar', title = 'Средняя цена километра в Санкт-Петербурге')\n",
    "plt.show()"
   ]
  },
  {
   "cell_type": "markdown",
   "metadata": {},
   "source": [
    "**Вывод:** Чем ближе к центру, тем дороже(самые дорогие - первые 8 километров). Может показаться что квартиры в 27км от центра дорогие, но по столбцу count можно увидеть, что из-за маленькой выборки среднее сильно искажается"
   ]
  },
  {
   "cell_type": "markdown",
   "metadata": {},
   "source": [
    "### Общий вывод"
   ]
  },
  {
   "cell_type": "markdown",
   "metadata": {},
   "source": [
    "При получении датасета я избавился от пропусков в столбцах, заменив их на нулевые или медианные значения, изменил некорректные типы данных, устранил аномалии и неявные дубликаты в названиях населенных пунктов.\n",
    "\n",
    "Для удобства последующего анализа и визуализации добавил новые столбцы с днями недели, месяцами, годами, ценой кв. метра, расстояния до центра в км и типом этажа.\n",
    "\n",
    "При проведении анализа я описал и визуализировал различные параметры выставляемых объявлений. Изучил как быстро продаются квартиры: \"долгим\" объявление можно считать спустя год после выставления на продажу. Исследовал зависимость цены от различных параметров: цена растет с ростом кухонной площади, площади жилой и общей, и в меньшей мере с ростом числа комнат. Выяснил, что среди топ-10 населенных пунктов по количеству объявлений самая высокая цена квадратного метра в Санкт-Петербурге, а самая низкая в Выборге. И наконец определил, что чем ближе к центру, тем дороже стоит квартира\n"
   ]
  }
 ],
 "metadata": {
  "ExecuteTimeLog": [
   {
    "duration": 529,
    "start_time": "2022-10-04T08:21:46.865Z"
   },
   {
    "duration": 82,
    "start_time": "2022-10-04T08:22:05.604Z"
   },
   {
    "duration": 94,
    "start_time": "2022-10-04T08:52:23.197Z"
   },
   {
    "duration": 15,
    "start_time": "2022-10-04T08:55:13.366Z"
   },
   {
    "duration": 14,
    "start_time": "2022-10-04T08:55:51.508Z"
   },
   {
    "duration": 13,
    "start_time": "2022-10-04T08:55:57.147Z"
   },
   {
    "duration": 3,
    "start_time": "2022-10-04T08:56:05.329Z"
   },
   {
    "duration": 3,
    "start_time": "2022-10-04T08:56:11.065Z"
   },
   {
    "duration": 83,
    "start_time": "2022-10-04T08:57:58.432Z"
   },
   {
    "duration": 72,
    "start_time": "2022-10-04T08:58:25.069Z"
   },
   {
    "duration": 73,
    "start_time": "2022-10-04T08:58:47.451Z"
   },
   {
    "duration": 93,
    "start_time": "2022-10-04T08:58:52.153Z"
   },
   {
    "duration": 103,
    "start_time": "2022-10-04T09:01:42.415Z"
   },
   {
    "duration": 81,
    "start_time": "2022-10-04T09:01:48.995Z"
   },
   {
    "duration": 75,
    "start_time": "2022-10-04T09:01:57.595Z"
   },
   {
    "duration": 91,
    "start_time": "2022-10-04T09:02:09.456Z"
   },
   {
    "duration": 104,
    "start_time": "2022-10-04T09:02:18.056Z"
   },
   {
    "duration": 90,
    "start_time": "2022-10-04T09:03:26.552Z"
   },
   {
    "duration": 101,
    "start_time": "2022-10-04T09:03:45.718Z"
   },
   {
    "duration": 93,
    "start_time": "2022-10-04T09:04:55.499Z"
   },
   {
    "duration": 84,
    "start_time": "2022-10-04T09:08:11.373Z"
   },
   {
    "duration": 114,
    "start_time": "2022-10-04T09:08:27.835Z"
   },
   {
    "duration": 109,
    "start_time": "2022-10-04T09:22:02.572Z"
   },
   {
    "duration": 114,
    "start_time": "2022-10-04T09:27:25.392Z"
   },
   {
    "duration": 170,
    "start_time": "2022-10-04T09:29:04.507Z"
   },
   {
    "duration": 148,
    "start_time": "2022-10-04T09:29:12.981Z"
   },
   {
    "duration": 2686,
    "start_time": "2022-10-04T13:19:05.394Z"
   },
   {
    "duration": 5,
    "start_time": "2022-10-04T13:58:09.274Z"
   },
   {
    "duration": 4,
    "start_time": "2022-10-04T13:58:22.394Z"
   },
   {
    "duration": 5,
    "start_time": "2022-10-04T13:58:29.088Z"
   },
   {
    "duration": 67,
    "start_time": "2022-10-04T14:30:57.718Z"
   },
   {
    "duration": 1804,
    "start_time": "2022-10-04T14:32:50.192Z"
   },
   {
    "duration": 10,
    "start_time": "2022-10-04T14:32:57.194Z"
   },
   {
    "duration": 11,
    "start_time": "2022-10-04T14:34:17.027Z"
   },
   {
    "duration": 9,
    "start_time": "2022-10-04T14:34:30.429Z"
   },
   {
    "duration": 1795,
    "start_time": "2022-10-04T14:34:43.683Z"
   },
   {
    "duration": 4,
    "start_time": "2022-10-04T14:35:10.835Z"
   },
   {
    "duration": 13,
    "start_time": "2022-10-04T14:35:19.263Z"
   },
   {
    "duration": 5,
    "start_time": "2022-10-04T14:35:34.772Z"
   },
   {
    "duration": 11,
    "start_time": "2022-10-04T14:35:39.706Z"
   },
   {
    "duration": 9,
    "start_time": "2022-10-04T14:36:04.261Z"
   },
   {
    "duration": 1716,
    "start_time": "2022-10-04T14:36:10.228Z"
   },
   {
    "duration": 7,
    "start_time": "2022-10-04T14:36:16.146Z"
   },
   {
    "duration": 12,
    "start_time": "2022-10-04T14:36:38.512Z"
   },
   {
    "duration": 1866,
    "start_time": "2022-10-04T14:37:26.059Z"
   },
   {
    "duration": 6,
    "start_time": "2022-10-04T14:37:29.644Z"
   },
   {
    "duration": 8,
    "start_time": "2022-10-04T14:38:32.434Z"
   },
   {
    "duration": 16,
    "start_time": "2022-10-04T14:38:46.381Z"
   },
   {
    "duration": 3151,
    "start_time": "2022-10-06T09:49:29.841Z"
   },
   {
    "duration": 27,
    "start_time": "2022-10-06T09:57:27.088Z"
   },
   {
    "duration": 26,
    "start_time": "2022-10-06T09:59:49.150Z"
   },
   {
    "duration": 33,
    "start_time": "2022-10-06T10:04:48.892Z"
   },
   {
    "duration": 20,
    "start_time": "2022-10-06T10:05:07.788Z"
   },
   {
    "duration": 17,
    "start_time": "2022-10-06T10:05:29.307Z"
   },
   {
    "duration": 23,
    "start_time": "2022-10-06T10:05:44.998Z"
   },
   {
    "duration": 1507,
    "start_time": "2022-10-06T10:06:07.485Z"
   },
   {
    "duration": 22,
    "start_time": "2022-10-06T10:06:18.680Z"
   },
   {
    "duration": 27,
    "start_time": "2022-10-06T10:06:40.560Z"
   },
   {
    "duration": 30,
    "start_time": "2022-10-06T10:10:09.111Z"
   },
   {
    "duration": 2103,
    "start_time": "2022-10-06T11:22:31.120Z"
   },
   {
    "duration": 33,
    "start_time": "2022-10-06T11:22:33.695Z"
   },
   {
    "duration": 31,
    "start_time": "2022-10-06T11:25:34.535Z"
   },
   {
    "duration": 22,
    "start_time": "2022-10-06T11:28:15.833Z"
   },
   {
    "duration": 19,
    "start_time": "2022-10-06T11:28:30.952Z"
   },
   {
    "duration": 34,
    "start_time": "2022-10-06T11:28:35.367Z"
   },
   {
    "duration": 18,
    "start_time": "2022-10-06T11:28:40.313Z"
   },
   {
    "duration": 2033,
    "start_time": "2022-10-06T11:28:49.847Z"
   },
   {
    "duration": 23,
    "start_time": "2022-10-06T11:28:57.578Z"
   },
   {
    "duration": 22,
    "start_time": "2022-10-06T11:29:03.016Z"
   },
   {
    "duration": 1991,
    "start_time": "2022-10-06T11:29:08.586Z"
   },
   {
    "duration": 160,
    "start_time": "2022-10-06T11:29:10.808Z"
   },
   {
    "duration": 36,
    "start_time": "2022-10-06T11:29:32.261Z"
   },
   {
    "duration": 2024,
    "start_time": "2022-10-06T11:53:55.653Z"
   },
   {
    "duration": 2223,
    "start_time": "2022-10-06T11:54:15.371Z"
   },
   {
    "duration": 14,
    "start_time": "2022-10-06T12:02:21.481Z"
   },
   {
    "duration": 12,
    "start_time": "2022-10-06T12:04:03.931Z"
   },
   {
    "duration": 2178,
    "start_time": "2022-10-06T12:04:20.173Z"
   },
   {
    "duration": 40,
    "start_time": "2022-10-06T12:04:22.588Z"
   },
   {
    "duration": 5,
    "start_time": "2022-10-06T12:04:24.975Z"
   },
   {
    "duration": 17,
    "start_time": "2022-10-06T12:05:03.555Z"
   },
   {
    "duration": 23,
    "start_time": "2022-10-06T12:07:22.650Z"
   },
   {
    "duration": 47,
    "start_time": "2022-10-06T12:07:32.479Z"
   },
   {
    "duration": 34,
    "start_time": "2022-10-06T12:08:29.783Z"
   },
   {
    "duration": 30,
    "start_time": "2022-10-06T12:14:20.865Z"
   },
   {
    "duration": 33,
    "start_time": "2022-10-06T12:15:35.256Z"
   },
   {
    "duration": 15,
    "start_time": "2022-10-06T12:18:15.359Z"
   },
   {
    "duration": 2224,
    "start_time": "2022-10-06T12:27:29.065Z"
   },
   {
    "duration": 285,
    "start_time": "2022-10-06T12:27:31.290Z"
   },
   {
    "duration": 26,
    "start_time": "2022-10-06T12:27:32.896Z"
   },
   {
    "duration": 5,
    "start_time": "2022-10-06T12:27:34.793Z"
   },
   {
    "duration": 1923,
    "start_time": "2022-10-06T15:21:44.169Z"
   },
   {
    "duration": 1001,
    "start_time": "2022-10-06T15:26:02.947Z"
   },
   {
    "duration": 43,
    "start_time": "2022-10-06T15:26:26.462Z"
   },
   {
    "duration": 27,
    "start_time": "2022-10-06T15:26:33.013Z"
   },
   {
    "duration": 10,
    "start_time": "2022-10-06T15:27:15.028Z"
   },
   {
    "duration": 10,
    "start_time": "2022-10-06T15:28:42.051Z"
   },
   {
    "duration": 21,
    "start_time": "2022-10-06T15:28:49.071Z"
   },
   {
    "duration": 9,
    "start_time": "2022-10-06T15:29:40.583Z"
   },
   {
    "duration": 16,
    "start_time": "2022-10-06T15:29:45.896Z"
   },
   {
    "duration": 40,
    "start_time": "2022-10-06T15:30:17.333Z"
   },
   {
    "duration": 28,
    "start_time": "2022-10-06T15:30:40.264Z"
   },
   {
    "duration": 29,
    "start_time": "2022-10-06T15:30:45.521Z"
   },
   {
    "duration": 17,
    "start_time": "2022-10-06T15:31:07.769Z"
   },
   {
    "duration": 16,
    "start_time": "2022-10-06T15:31:17.883Z"
   },
   {
    "duration": 16,
    "start_time": "2022-10-06T15:31:32.123Z"
   },
   {
    "duration": 17,
    "start_time": "2022-10-06T15:31:43.250Z"
   },
   {
    "duration": 15,
    "start_time": "2022-10-06T15:31:48.149Z"
   },
   {
    "duration": 6,
    "start_time": "2022-10-06T15:32:29.372Z"
   },
   {
    "duration": 5,
    "start_time": "2022-10-06T15:32:42.991Z"
   },
   {
    "duration": 7,
    "start_time": "2022-10-06T15:32:52.324Z"
   },
   {
    "duration": 5,
    "start_time": "2022-10-06T15:55:19.538Z"
   },
   {
    "duration": 17,
    "start_time": "2022-10-06T15:55:23.523Z"
   },
   {
    "duration": 15,
    "start_time": "2022-10-06T15:56:52.027Z"
   },
   {
    "duration": 42,
    "start_time": "2022-10-06T15:57:19.991Z"
   },
   {
    "duration": 51,
    "start_time": "2022-10-06T15:57:39.783Z"
   },
   {
    "duration": 43,
    "start_time": "2022-10-06T15:58:03.786Z"
   },
   {
    "duration": 47,
    "start_time": "2022-10-06T15:58:19.379Z"
   },
   {
    "duration": 60,
    "start_time": "2022-10-06T15:59:53.055Z"
   },
   {
    "duration": 75,
    "start_time": "2022-10-06T16:00:11.473Z"
   },
   {
    "duration": 73,
    "start_time": "2022-10-06T16:01:00.471Z"
   },
   {
    "duration": 8,
    "start_time": "2022-10-06T16:01:04.692Z"
   },
   {
    "duration": 35,
    "start_time": "2022-10-06T16:01:08.833Z"
   },
   {
    "duration": 43,
    "start_time": "2022-10-06T16:01:09.660Z"
   },
   {
    "duration": 13,
    "start_time": "2022-10-06T16:01:10.128Z"
   },
   {
    "duration": 2179,
    "start_time": "2022-10-06T16:01:17.603Z"
   },
   {
    "duration": 289,
    "start_time": "2022-10-06T16:01:19.784Z"
   },
   {
    "duration": 28,
    "start_time": "2022-10-06T16:01:20.075Z"
   },
   {
    "duration": 9,
    "start_time": "2022-10-06T16:01:20.106Z"
   },
   {
    "duration": 83,
    "start_time": "2022-10-06T16:02:36.228Z"
   },
   {
    "duration": 74,
    "start_time": "2022-10-06T16:02:45.713Z"
   },
   {
    "duration": 2261,
    "start_time": "2022-10-06T16:02:56.393Z"
   },
   {
    "duration": 55,
    "start_time": "2022-10-06T16:02:58.656Z"
   },
   {
    "duration": 46,
    "start_time": "2022-10-06T16:02:58.714Z"
   },
   {
    "duration": 90,
    "start_time": "2022-10-06T16:02:58.763Z"
   },
   {
    "duration": 88,
    "start_time": "2022-10-06T16:03:29.141Z"
   },
   {
    "duration": 2231,
    "start_time": "2022-10-06T16:03:56.826Z"
   },
   {
    "duration": 41,
    "start_time": "2022-10-06T16:03:59.059Z"
   },
   {
    "duration": 42,
    "start_time": "2022-10-06T16:03:59.102Z"
   },
   {
    "duration": 84,
    "start_time": "2022-10-06T16:04:00.576Z"
   },
   {
    "duration": 2566,
    "start_time": "2022-10-06T16:04:40.659Z"
   },
   {
    "duration": 50,
    "start_time": "2022-10-06T16:04:43.228Z"
   },
   {
    "duration": 28,
    "start_time": "2022-10-06T16:04:43.280Z"
   },
   {
    "duration": 7,
    "start_time": "2022-10-06T16:04:45.990Z"
   },
   {
    "duration": 76,
    "start_time": "2022-10-06T16:08:05.529Z"
   },
   {
    "duration": 131,
    "start_time": "2022-10-06T16:09:54.596Z"
   },
   {
    "duration": 172,
    "start_time": "2022-10-06T16:11:51.822Z"
   },
   {
    "duration": 150,
    "start_time": "2022-10-06T16:12:12.194Z"
   },
   {
    "duration": 2271,
    "start_time": "2022-10-06T16:12:28.096Z"
   },
   {
    "duration": 48,
    "start_time": "2022-10-06T16:12:30.369Z"
   },
   {
    "duration": 46,
    "start_time": "2022-10-06T16:12:30.419Z"
   },
   {
    "duration": 153,
    "start_time": "2022-10-06T16:12:30.939Z"
   },
   {
    "duration": 141,
    "start_time": "2022-10-06T16:13:59.627Z"
   },
   {
    "duration": 184,
    "start_time": "2022-10-06T16:14:25.994Z"
   },
   {
    "duration": 140,
    "start_time": "2022-10-06T16:14:32.219Z"
   },
   {
    "duration": 135,
    "start_time": "2022-10-06T16:14:47.403Z"
   },
   {
    "duration": 143,
    "start_time": "2022-10-06T16:15:19.433Z"
   },
   {
    "duration": 137,
    "start_time": "2022-10-06T16:16:31.364Z"
   },
   {
    "duration": 72,
    "start_time": "2022-10-06T16:16:47.035Z"
   },
   {
    "duration": 166,
    "start_time": "2022-10-06T16:16:54.037Z"
   },
   {
    "duration": 132,
    "start_time": "2022-10-06T16:17:34.867Z"
   },
   {
    "duration": 147,
    "start_time": "2022-10-06T16:17:45.570Z"
   },
   {
    "duration": 138,
    "start_time": "2022-10-06T16:18:09.579Z"
   },
   {
    "duration": 2074,
    "start_time": "2022-10-06T16:18:28.551Z"
   },
   {
    "duration": 56,
    "start_time": "2022-10-06T16:18:30.629Z"
   },
   {
    "duration": 40,
    "start_time": "2022-10-06T16:18:30.686Z"
   },
   {
    "duration": 224,
    "start_time": "2022-10-06T16:18:39.483Z"
   },
   {
    "duration": 2356,
    "start_time": "2022-10-06T16:18:45.427Z"
   },
   {
    "duration": 58,
    "start_time": "2022-10-06T16:18:47.785Z"
   },
   {
    "duration": 27,
    "start_time": "2022-10-06T16:18:47.844Z"
   },
   {
    "duration": 139,
    "start_time": "2022-10-06T16:19:02.800Z"
   },
   {
    "duration": 1989,
    "start_time": "2022-10-06T16:19:06.884Z"
   },
   {
    "duration": 41,
    "start_time": "2022-10-06T16:19:08.875Z"
   },
   {
    "duration": 43,
    "start_time": "2022-10-06T16:19:08.918Z"
   },
   {
    "duration": 133,
    "start_time": "2022-10-06T16:19:09.143Z"
   },
   {
    "duration": 145,
    "start_time": "2022-10-06T16:20:18.039Z"
   },
   {
    "duration": 1901,
    "start_time": "2022-10-06T16:20:23.533Z"
   },
   {
    "duration": 42,
    "start_time": "2022-10-06T16:20:25.436Z"
   },
   {
    "duration": 25,
    "start_time": "2022-10-06T16:20:25.480Z"
   },
   {
    "duration": 143,
    "start_time": "2022-10-06T16:20:26.222Z"
   },
   {
    "duration": 2056,
    "start_time": "2022-10-06T16:21:27.005Z"
   },
   {
    "duration": 466,
    "start_time": "2022-10-06T16:21:29.420Z"
   },
   {
    "duration": 36,
    "start_time": "2022-10-06T16:21:58.136Z"
   },
   {
    "duration": 2035,
    "start_time": "2022-10-06T16:22:17.947Z"
   },
   {
    "duration": 42,
    "start_time": "2022-10-06T16:22:19.983Z"
   },
   {
    "duration": 36,
    "start_time": "2022-10-06T16:22:20.026Z"
   },
   {
    "duration": 151,
    "start_time": "2022-10-06T16:22:20.995Z"
   },
   {
    "duration": 6,
    "start_time": "2022-10-06T16:28:14.217Z"
   },
   {
    "duration": 9,
    "start_time": "2022-10-06T16:28:24.287Z"
   },
   {
    "duration": 8,
    "start_time": "2022-10-06T16:28:40.647Z"
   },
   {
    "duration": 17,
    "start_time": "2022-10-06T16:28:45.860Z"
   },
   {
    "duration": 24,
    "start_time": "2022-10-06T16:29:07.871Z"
   },
   {
    "duration": 11,
    "start_time": "2022-10-06T16:38:33.782Z"
   },
   {
    "duration": 53,
    "start_time": "2022-10-06T16:39:40.015Z"
   },
   {
    "duration": 47,
    "start_time": "2022-10-06T16:39:43.939Z"
   },
   {
    "duration": 5,
    "start_time": "2022-10-06T16:39:46.873Z"
   },
   {
    "duration": 6,
    "start_time": "2022-10-06T16:39:52.889Z"
   },
   {
    "duration": 7,
    "start_time": "2022-10-06T16:40:04.312Z"
   },
   {
    "duration": 75,
    "start_time": "2022-10-06T16:43:24.619Z"
   },
   {
    "duration": 12,
    "start_time": "2022-10-06T16:44:17.617Z"
   },
   {
    "duration": 17,
    "start_time": "2022-10-06T16:47:02.361Z"
   },
   {
    "duration": 11,
    "start_time": "2022-10-06T16:47:49.317Z"
   },
   {
    "duration": 12,
    "start_time": "2022-10-06T16:53:35.451Z"
   },
   {
    "duration": 11,
    "start_time": "2022-10-06T16:56:23.831Z"
   },
   {
    "duration": 2022,
    "start_time": "2022-10-06T16:56:32.106Z"
   },
   {
    "duration": 65,
    "start_time": "2022-10-06T16:56:34.130Z"
   },
   {
    "duration": 42,
    "start_time": "2022-10-06T16:56:34.197Z"
   },
   {
    "duration": 233,
    "start_time": "2022-10-06T16:56:34.242Z"
   },
   {
    "duration": 8,
    "start_time": "2022-10-06T16:56:34.477Z"
   },
   {
    "duration": 7,
    "start_time": "2022-10-06T16:57:02.979Z"
   },
   {
    "duration": 1900,
    "start_time": "2022-10-06T16:57:10.644Z"
   },
   {
    "duration": 37,
    "start_time": "2022-10-06T16:57:12.546Z"
   },
   {
    "duration": 32,
    "start_time": "2022-10-06T16:57:12.585Z"
   },
   {
    "duration": 143,
    "start_time": "2022-10-06T16:57:12.637Z"
   },
   {
    "duration": 8,
    "start_time": "2022-10-06T16:57:12.782Z"
   },
   {
    "duration": 14,
    "start_time": "2022-10-06T16:58:18.867Z"
   },
   {
    "duration": 22,
    "start_time": "2022-10-06T16:58:25.169Z"
   },
   {
    "duration": 12,
    "start_time": "2022-10-06T16:58:53.387Z"
   },
   {
    "duration": 18,
    "start_time": "2022-10-06T16:59:07.904Z"
   },
   {
    "duration": 2014,
    "start_time": "2022-10-06T16:59:26.348Z"
   },
   {
    "duration": 47,
    "start_time": "2022-10-06T16:59:28.364Z"
   },
   {
    "duration": 48,
    "start_time": "2022-10-06T16:59:28.413Z"
   },
   {
    "duration": 146,
    "start_time": "2022-10-06T16:59:30.496Z"
   },
   {
    "duration": 25,
    "start_time": "2022-10-06T16:59:32.740Z"
   },
   {
    "duration": 27,
    "start_time": "2022-10-06T16:59:57.920Z"
   },
   {
    "duration": 9,
    "start_time": "2022-10-06T17:00:14.912Z"
   },
   {
    "duration": 18,
    "start_time": "2022-10-06T17:00:50.098Z"
   },
   {
    "duration": 28,
    "start_time": "2022-10-06T17:01:04.797Z"
   },
   {
    "duration": 39,
    "start_time": "2022-10-06T17:01:22.388Z"
   },
   {
    "duration": 47,
    "start_time": "2022-10-06T17:02:48.337Z"
   },
   {
    "duration": 51,
    "start_time": "2022-10-06T17:04:36.691Z"
   },
   {
    "duration": 48,
    "start_time": "2022-10-06T17:04:50.600Z"
   },
   {
    "duration": 49,
    "start_time": "2022-10-06T17:05:03.774Z"
   },
   {
    "duration": 18,
    "start_time": "2022-10-06T17:07:27.369Z"
   },
   {
    "duration": 18,
    "start_time": "2022-10-06T17:07:38.115Z"
   },
   {
    "duration": 9,
    "start_time": "2022-10-06T17:07:50.014Z"
   },
   {
    "duration": 28,
    "start_time": "2022-10-06T17:07:53.953Z"
   },
   {
    "duration": 36,
    "start_time": "2022-10-06T17:08:01.885Z"
   },
   {
    "duration": 46,
    "start_time": "2022-10-06T17:09:42.951Z"
   },
   {
    "duration": 138,
    "start_time": "2022-10-06T18:36:09.039Z"
   },
   {
    "duration": 2293,
    "start_time": "2022-10-06T18:36:12.898Z"
   },
   {
    "duration": 45,
    "start_time": "2022-10-06T18:36:15.193Z"
   },
   {
    "duration": 24,
    "start_time": "2022-10-06T18:36:20.848Z"
   },
   {
    "duration": 139,
    "start_time": "2022-10-06T18:36:23.136Z"
   },
   {
    "duration": 50,
    "start_time": "2022-10-06T18:39:12.339Z"
   },
   {
    "duration": 706,
    "start_time": "2022-10-06T18:44:06.209Z"
   },
   {
    "duration": 10,
    "start_time": "2022-10-06T18:44:10.609Z"
   },
   {
    "duration": 12,
    "start_time": "2022-10-06T18:44:41.113Z"
   },
   {
    "duration": 25,
    "start_time": "2022-10-06T18:45:05.956Z"
   },
   {
    "duration": 803,
    "start_time": "2022-10-06T18:45:29.276Z"
   },
   {
    "duration": 43,
    "start_time": "2022-10-06T18:45:41.161Z"
   },
   {
    "duration": 17,
    "start_time": "2022-10-06T18:45:57.151Z"
   },
   {
    "duration": 11,
    "start_time": "2022-10-06T18:46:05.212Z"
   },
   {
    "duration": 11,
    "start_time": "2022-10-06T18:46:25.524Z"
   },
   {
    "duration": 10,
    "start_time": "2022-10-06T18:47:07.851Z"
   },
   {
    "duration": 11,
    "start_time": "2022-10-06T18:47:13.605Z"
   },
   {
    "duration": 16,
    "start_time": "2022-10-06T18:47:18.349Z"
   },
   {
    "duration": 17,
    "start_time": "2022-10-06T18:48:20.200Z"
   },
   {
    "duration": 47,
    "start_time": "2022-10-06T18:48:37.820Z"
   },
   {
    "duration": 11,
    "start_time": "2022-10-06T18:48:41.229Z"
   },
   {
    "duration": 16,
    "start_time": "2022-10-06T18:49:09.559Z"
   },
   {
    "duration": 34,
    "start_time": "2022-10-06T18:49:19.841Z"
   },
   {
    "duration": 53,
    "start_time": "2022-10-06T18:49:27.338Z"
   },
   {
    "duration": 45,
    "start_time": "2022-10-06T18:49:34.390Z"
   },
   {
    "duration": 1796,
    "start_time": "2022-10-06T18:52:25.221Z"
   },
   {
    "duration": 37,
    "start_time": "2022-10-06T18:52:27.825Z"
   },
   {
    "duration": 25,
    "start_time": "2022-10-06T18:52:29.462Z"
   },
   {
    "duration": 140,
    "start_time": "2022-10-06T18:52:31.167Z"
   },
   {
    "duration": 39,
    "start_time": "2022-10-06T18:53:19.490Z"
   },
   {
    "duration": 14,
    "start_time": "2022-10-06T18:53:31.685Z"
   },
   {
    "duration": 1832,
    "start_time": "2022-10-06T19:57:00.610Z"
   },
   {
    "duration": 39,
    "start_time": "2022-10-06T19:57:02.444Z"
   },
   {
    "duration": 26,
    "start_time": "2022-10-06T19:57:03.094Z"
   },
   {
    "duration": 144,
    "start_time": "2022-10-06T19:57:05.059Z"
   },
   {
    "duration": 13,
    "start_time": "2022-10-06T19:57:11.915Z"
   },
   {
    "duration": 21,
    "start_time": "2022-10-06T19:59:26.565Z"
   },
   {
    "duration": 22,
    "start_time": "2022-10-06T20:00:00.866Z"
   },
   {
    "duration": 24,
    "start_time": "2022-10-06T20:00:37.776Z"
   },
   {
    "duration": 1854,
    "start_time": "2022-10-06T20:00:47.546Z"
   },
   {
    "duration": 38,
    "start_time": "2022-10-06T20:00:55.651Z"
   },
   {
    "duration": 27,
    "start_time": "2022-10-06T20:00:58.348Z"
   },
   {
    "duration": 154,
    "start_time": "2022-10-06T20:01:00.313Z"
   },
   {
    "duration": 26,
    "start_time": "2022-10-06T20:01:01.705Z"
   },
   {
    "duration": 25,
    "start_time": "2022-10-06T20:02:14.404Z"
   },
   {
    "duration": 22,
    "start_time": "2022-10-06T20:02:44.973Z"
   },
   {
    "duration": 35,
    "start_time": "2022-10-06T20:03:11.664Z"
   },
   {
    "duration": 25,
    "start_time": "2022-10-06T20:04:04.527Z"
   },
   {
    "duration": 21,
    "start_time": "2022-10-06T20:04:28.132Z"
   },
   {
    "duration": 20,
    "start_time": "2022-10-06T20:04:40.550Z"
   },
   {
    "duration": 24,
    "start_time": "2022-10-06T20:05:30.426Z"
   },
   {
    "duration": 25,
    "start_time": "2022-10-06T20:06:18.476Z"
   },
   {
    "duration": 1406,
    "start_time": "2022-10-06T20:06:45.075Z"
   },
   {
    "duration": 25,
    "start_time": "2022-10-06T20:07:05.997Z"
   },
   {
    "duration": 26,
    "start_time": "2022-10-06T20:07:12.799Z"
   },
   {
    "duration": 24,
    "start_time": "2022-10-06T20:08:20.142Z"
   },
   {
    "duration": 28,
    "start_time": "2022-10-06T20:09:21.257Z"
   },
   {
    "duration": 31,
    "start_time": "2022-10-06T20:10:33.827Z"
   },
   {
    "duration": 33,
    "start_time": "2022-10-06T20:10:47.327Z"
   },
   {
    "duration": 26,
    "start_time": "2022-10-06T20:11:05.074Z"
   },
   {
    "duration": 28,
    "start_time": "2022-10-06T20:11:12.354Z"
   },
   {
    "duration": 14,
    "start_time": "2022-10-06T20:12:08.724Z"
   },
   {
    "duration": 23,
    "start_time": "2022-10-06T20:25:01.507Z"
   },
   {
    "duration": 11,
    "start_time": "2022-10-06T20:28:59.403Z"
   },
   {
    "duration": 940,
    "start_time": "2022-10-06T20:30:22.202Z"
   },
   {
    "duration": 84,
    "start_time": "2022-10-06T20:33:53.969Z"
   },
   {
    "duration": 27,
    "start_time": "2022-10-06T20:37:55.593Z"
   },
   {
    "duration": 28,
    "start_time": "2022-10-06T20:38:35.970Z"
   },
   {
    "duration": 14,
    "start_time": "2022-10-06T20:40:21.970Z"
   },
   {
    "duration": 31,
    "start_time": "2022-10-06T20:45:37.384Z"
   },
   {
    "duration": 12,
    "start_time": "2022-10-06T20:46:15.792Z"
   },
   {
    "duration": 310,
    "start_time": "2022-10-06T20:47:23.778Z"
   },
   {
    "duration": 300,
    "start_time": "2022-10-06T20:49:43.362Z"
   },
   {
    "duration": 320,
    "start_time": "2022-10-06T20:49:51.038Z"
   },
   {
    "duration": 322,
    "start_time": "2022-10-06T20:52:40.157Z"
   },
   {
    "duration": 868,
    "start_time": "2022-10-06T20:54:31.927Z"
   },
   {
    "duration": 2669,
    "start_time": "2022-10-06T20:54:38.301Z"
   },
   {
    "duration": 526,
    "start_time": "2022-10-06T20:56:21.048Z"
   },
   {
    "duration": 570,
    "start_time": "2022-10-06T20:56:57.578Z"
   },
   {
    "duration": 502,
    "start_time": "2022-10-06T20:57:06.298Z"
   },
   {
    "duration": 3492,
    "start_time": "2022-10-07T16:21:58.445Z"
   },
   {
    "duration": 51,
    "start_time": "2022-10-07T16:22:01.939Z"
   },
   {
    "duration": 35,
    "start_time": "2022-10-07T16:22:01.992Z"
   },
   {
    "duration": 205,
    "start_time": "2022-10-07T16:22:02.029Z"
   },
   {
    "duration": 35,
    "start_time": "2022-10-07T16:22:02.236Z"
   },
   {
    "duration": 604,
    "start_time": "2022-10-07T16:22:03.393Z"
   },
   {
    "duration": 453,
    "start_time": "2022-10-07T16:22:14.459Z"
   },
   {
    "duration": 23,
    "start_time": "2022-10-07T16:32:10.253Z"
   },
   {
    "duration": 92,
    "start_time": "2022-10-07T16:35:50.105Z"
   },
   {
    "duration": 33,
    "start_time": "2022-10-07T16:36:10.111Z"
   },
   {
    "duration": 30,
    "start_time": "2022-10-07T16:36:16.320Z"
   },
   {
    "duration": 33,
    "start_time": "2022-10-07T16:36:24.491Z"
   },
   {
    "duration": 21,
    "start_time": "2022-10-07T16:36:54.944Z"
   },
   {
    "duration": 14,
    "start_time": "2022-10-07T16:37:19.992Z"
   },
   {
    "duration": 16,
    "start_time": "2022-10-07T16:37:34.011Z"
   },
   {
    "duration": 16,
    "start_time": "2022-10-07T16:37:51.685Z"
   },
   {
    "duration": 14,
    "start_time": "2022-10-07T16:38:04.794Z"
   },
   {
    "duration": 282,
    "start_time": "2022-10-07T16:38:47.053Z"
   },
   {
    "duration": 21,
    "start_time": "2022-10-07T16:38:56.522Z"
   },
   {
    "duration": 21,
    "start_time": "2022-10-07T16:39:04.279Z"
   },
   {
    "duration": 22,
    "start_time": "2022-10-07T16:39:14.161Z"
   },
   {
    "duration": 24,
    "start_time": "2022-10-07T16:41:39.387Z"
   },
   {
    "duration": 22,
    "start_time": "2022-10-07T16:41:57.101Z"
   },
   {
    "duration": 24,
    "start_time": "2022-10-07T16:42:02.634Z"
   },
   {
    "duration": 22,
    "start_time": "2022-10-07T16:42:08.599Z"
   },
   {
    "duration": 314,
    "start_time": "2022-10-07T16:42:36.018Z"
   },
   {
    "duration": 345,
    "start_time": "2022-10-07T16:42:44.069Z"
   },
   {
    "duration": 253,
    "start_time": "2022-10-07T16:42:49.964Z"
   },
   {
    "duration": 241,
    "start_time": "2022-10-07T16:43:22.265Z"
   },
   {
    "duration": 223,
    "start_time": "2022-10-07T16:43:36.602Z"
   },
   {
    "duration": 237,
    "start_time": "2022-10-07T16:43:38.723Z"
   },
   {
    "duration": 234,
    "start_time": "2022-10-07T16:44:16.998Z"
   },
   {
    "duration": 345,
    "start_time": "2022-10-07T16:44:22.539Z"
   },
   {
    "duration": 22,
    "start_time": "2022-10-07T16:44:51.371Z"
   },
   {
    "duration": 24,
    "start_time": "2022-10-07T16:45:28.332Z"
   },
   {
    "duration": 239,
    "start_time": "2022-10-07T16:45:39.783Z"
   },
   {
    "duration": 513,
    "start_time": "2022-10-07T16:46:19.522Z"
   },
   {
    "duration": 499,
    "start_time": "2022-10-07T16:46:28.869Z"
   },
   {
    "duration": 454,
    "start_time": "2022-10-07T16:46:42.741Z"
   },
   {
    "duration": 437,
    "start_time": "2022-10-07T16:46:51.013Z"
   },
   {
    "duration": 559,
    "start_time": "2022-10-07T16:47:03.448Z"
   },
   {
    "duration": 550,
    "start_time": "2022-10-07T16:47:57.029Z"
   },
   {
    "duration": 332,
    "start_time": "2022-10-07T16:48:06.149Z"
   },
   {
    "duration": 312,
    "start_time": "2022-10-07T16:48:20.265Z"
   },
   {
    "duration": 197,
    "start_time": "2022-10-07T16:49:06.494Z"
   },
   {
    "duration": 148,
    "start_time": "2022-10-07T16:49:15.702Z"
   },
   {
    "duration": 132,
    "start_time": "2022-10-07T16:49:20.836Z"
   },
   {
    "duration": 151,
    "start_time": "2022-10-07T16:49:29.144Z"
   },
   {
    "duration": 371,
    "start_time": "2022-10-07T16:50:11.550Z"
   },
   {
    "duration": 199,
    "start_time": "2022-10-07T16:50:43.416Z"
   },
   {
    "duration": 241,
    "start_time": "2022-10-07T16:51:01.496Z"
   },
   {
    "duration": 164,
    "start_time": "2022-10-07T16:51:30.438Z"
   },
   {
    "duration": 15,
    "start_time": "2022-10-07T16:56:59.351Z"
   },
   {
    "duration": 10,
    "start_time": "2022-10-07T16:57:04.432Z"
   },
   {
    "duration": 33,
    "start_time": "2022-10-07T16:59:00.873Z"
   },
   {
    "duration": 36,
    "start_time": "2022-10-07T16:59:45.957Z"
   },
   {
    "duration": 37,
    "start_time": "2022-10-07T17:00:03.916Z"
   },
   {
    "duration": 34,
    "start_time": "2022-10-07T17:01:23.158Z"
   },
   {
    "duration": 34,
    "start_time": "2022-10-07T17:03:09.691Z"
   },
   {
    "duration": 35,
    "start_time": "2022-10-07T17:03:24.977Z"
   },
   {
    "duration": 41,
    "start_time": "2022-10-07T17:04:12.757Z"
   },
   {
    "duration": 290,
    "start_time": "2022-10-07T17:05:56.064Z"
   },
   {
    "duration": 249,
    "start_time": "2022-10-07T17:06:20.391Z"
   },
   {
    "duration": 486,
    "start_time": "2022-10-07T17:06:27.590Z"
   },
   {
    "duration": 23,
    "start_time": "2022-10-07T17:08:27.845Z"
   },
   {
    "duration": 288,
    "start_time": "2022-10-07T17:08:37.483Z"
   },
   {
    "duration": 268,
    "start_time": "2022-10-07T17:09:00.364Z"
   },
   {
    "duration": 405,
    "start_time": "2022-10-07T17:09:07.082Z"
   },
   {
    "duration": 162,
    "start_time": "2022-10-07T17:09:22.202Z"
   },
   {
    "duration": 73,
    "start_time": "2022-10-07T17:09:36.319Z"
   },
   {
    "duration": 180,
    "start_time": "2022-10-07T17:09:41.653Z"
   },
   {
    "duration": 160,
    "start_time": "2022-10-07T17:09:52.851Z"
   },
   {
    "duration": 176,
    "start_time": "2022-10-07T17:10:30.745Z"
   },
   {
    "duration": 158,
    "start_time": "2022-10-07T17:10:53.298Z"
   },
   {
    "duration": 163,
    "start_time": "2022-10-07T17:11:02.100Z"
   },
   {
    "duration": 165,
    "start_time": "2022-10-07T17:11:47.903Z"
   },
   {
    "duration": 379,
    "start_time": "2022-10-07T17:13:07.734Z"
   },
   {
    "duration": 364,
    "start_time": "2022-10-07T17:14:02.421Z"
   },
   {
    "duration": 348,
    "start_time": "2022-10-07T17:14:22.956Z"
   },
   {
    "duration": 642,
    "start_time": "2022-10-07T17:14:31.136Z"
   },
   {
    "duration": 67,
    "start_time": "2022-10-09T10:36:11.862Z"
   },
   {
    "duration": 3204,
    "start_time": "2022-10-09T10:36:15.356Z"
   },
   {
    "duration": 49,
    "start_time": "2022-10-09T10:36:18.562Z"
   },
   {
    "duration": 31,
    "start_time": "2022-10-09T10:36:18.613Z"
   },
   {
    "duration": 181,
    "start_time": "2022-10-09T10:36:18.646Z"
   },
   {
    "duration": 19,
    "start_time": "2022-10-09T10:36:18.829Z"
   },
   {
    "duration": 388,
    "start_time": "2022-10-09T10:36:18.849Z"
   },
   {
    "duration": 50,
    "start_time": "2022-10-09T10:36:19.239Z"
   },
   {
    "duration": 8,
    "start_time": "2022-10-09T10:36:37.857Z"
   },
   {
    "duration": 2373,
    "start_time": "2022-10-09T10:39:41.698Z"
   },
   {
    "duration": 55,
    "start_time": "2022-10-09T10:39:44.074Z"
   },
   {
    "duration": 27,
    "start_time": "2022-10-09T10:39:44.131Z"
   },
   {
    "duration": 175,
    "start_time": "2022-10-09T10:39:44.160Z"
   },
   {
    "duration": 17,
    "start_time": "2022-10-09T10:39:44.337Z"
   },
   {
    "duration": 369,
    "start_time": "2022-10-09T10:39:45.065Z"
   },
   {
    "duration": 11,
    "start_time": "2022-10-09T10:39:56.858Z"
   },
   {
    "duration": 105,
    "start_time": "2022-10-09T10:40:02.007Z"
   },
   {
    "duration": 2726,
    "start_time": "2022-10-09T10:43:10.028Z"
   },
   {
    "duration": 2203,
    "start_time": "2022-10-09T10:43:24.152Z"
   },
   {
    "duration": 132,
    "start_time": "2022-10-09T10:43:47.872Z"
   },
   {
    "duration": 29,
    "start_time": "2022-10-09T10:50:35.115Z"
   },
   {
    "duration": 59,
    "start_time": "2022-10-09T10:51:07.883Z"
   },
   {
    "duration": 353,
    "start_time": "2022-10-09T10:52:03.838Z"
   },
   {
    "duration": 19,
    "start_time": "2022-10-09T10:52:42.885Z"
   },
   {
    "duration": 205,
    "start_time": "2022-10-09T10:55:45.272Z"
   },
   {
    "duration": 209,
    "start_time": "2022-10-09T10:56:00.794Z"
   },
   {
    "duration": 185,
    "start_time": "2022-10-09T10:56:07.085Z"
   },
   {
    "duration": 2440,
    "start_time": "2022-10-09T10:56:17.329Z"
   },
   {
    "duration": 67,
    "start_time": "2022-10-09T10:56:19.770Z"
   },
   {
    "duration": 50,
    "start_time": "2022-10-09T10:56:19.839Z"
   },
   {
    "duration": 247,
    "start_time": "2022-10-09T10:56:21.577Z"
   },
   {
    "duration": 18,
    "start_time": "2022-10-09T10:56:23.920Z"
   },
   {
    "duration": 384,
    "start_time": "2022-10-09T10:56:27.535Z"
   },
   {
    "duration": 365,
    "start_time": "2022-10-09T10:56:59.422Z"
   },
   {
    "duration": 134,
    "start_time": "2022-10-09T10:57:07.832Z"
   },
   {
    "duration": 3272,
    "start_time": "2022-10-09T11:25:46.776Z"
   },
   {
    "duration": 61,
    "start_time": "2022-10-09T11:25:50.051Z"
   },
   {
    "duration": 40,
    "start_time": "2022-10-09T11:25:50.114Z"
   },
   {
    "duration": 362,
    "start_time": "2022-10-09T11:25:50.157Z"
   },
   {
    "duration": 22,
    "start_time": "2022-10-09T11:25:50.522Z"
   },
   {
    "duration": 721,
    "start_time": "2022-10-09T11:25:51.963Z"
   },
   {
    "duration": 146,
    "start_time": "2022-10-09T11:43:59.782Z"
   },
   {
    "duration": 1319,
    "start_time": "2022-10-09T11:44:09.604Z"
   },
   {
    "duration": 982,
    "start_time": "2022-10-09T11:44:28.038Z"
   },
   {
    "duration": 261,
    "start_time": "2022-10-09T12:39:13.529Z"
   },
   {
    "duration": 25,
    "start_time": "2022-10-09T12:39:47.630Z"
   },
   {
    "duration": 27,
    "start_time": "2022-10-09T12:40:05.404Z"
   },
   {
    "duration": 28,
    "start_time": "2022-10-09T12:40:13.215Z"
   },
   {
    "duration": 356,
    "start_time": "2022-10-09T12:40:18.384Z"
   },
   {
    "duration": 274,
    "start_time": "2022-10-09T12:40:35.243Z"
   },
   {
    "duration": 245,
    "start_time": "2022-10-09T12:41:21.619Z"
   },
   {
    "duration": 247,
    "start_time": "2022-10-09T12:42:14.847Z"
   },
   {
    "duration": 0,
    "start_time": "2022-10-09T12:46:00.901Z"
   },
   {
    "duration": 0,
    "start_time": "2022-10-09T12:46:00.902Z"
   },
   {
    "duration": 0,
    "start_time": "2022-10-09T12:46:00.904Z"
   },
   {
    "duration": 0,
    "start_time": "2022-10-09T12:46:00.905Z"
   },
   {
    "duration": 0,
    "start_time": "2022-10-09T12:46:00.907Z"
   },
   {
    "duration": 0,
    "start_time": "2022-10-09T12:46:00.908Z"
   },
   {
    "duration": 0,
    "start_time": "2022-10-09T12:46:00.911Z"
   },
   {
    "duration": 12,
    "start_time": "2022-10-09T12:47:56.281Z"
   },
   {
    "duration": 8,
    "start_time": "2022-10-09T12:48:19.531Z"
   },
   {
    "duration": 5,
    "start_time": "2022-10-09T12:48:44.908Z"
   },
   {
    "duration": 10,
    "start_time": "2022-10-09T12:48:55.535Z"
   },
   {
    "duration": 40,
    "start_time": "2022-10-09T12:49:20.341Z"
   },
   {
    "duration": 3004,
    "start_time": "2022-10-15T12:17:11.341Z"
   },
   {
    "duration": 42,
    "start_time": "2022-10-15T12:17:14.347Z"
   },
   {
    "duration": 27,
    "start_time": "2022-10-15T12:17:14.391Z"
   },
   {
    "duration": 182,
    "start_time": "2022-10-15T12:17:14.420Z"
   },
   {
    "duration": 55,
    "start_time": "2022-10-15T12:17:14.608Z"
   },
   {
    "duration": 0,
    "start_time": "2022-10-15T12:17:14.665Z"
   },
   {
    "duration": 2,
    "start_time": "2022-10-15T12:17:15.383Z"
   },
   {
    "duration": 84,
    "start_time": "2022-10-15T12:22:50.674Z"
   },
   {
    "duration": 53,
    "start_time": "2022-10-15T12:33:51.307Z"
   },
   {
    "duration": 8,
    "start_time": "2022-10-15T12:35:02.462Z"
   },
   {
    "duration": 9,
    "start_time": "2022-10-15T12:36:34.154Z"
   },
   {
    "duration": 8,
    "start_time": "2022-10-15T12:37:28.522Z"
   },
   {
    "duration": 6,
    "start_time": "2022-10-15T12:40:28.189Z"
   },
   {
    "duration": 7,
    "start_time": "2022-10-15T12:40:59.144Z"
   },
   {
    "duration": 6,
    "start_time": "2022-10-15T12:41:22.913Z"
   },
   {
    "duration": 9,
    "start_time": "2022-10-15T12:50:40.154Z"
   },
   {
    "duration": 46,
    "start_time": "2022-10-15T12:50:50.692Z"
   },
   {
    "duration": 49,
    "start_time": "2022-10-15T12:51:01.835Z"
   },
   {
    "duration": 5,
    "start_time": "2022-10-15T12:51:29.412Z"
   },
   {
    "duration": 12,
    "start_time": "2022-10-15T12:51:59.010Z"
   },
   {
    "duration": 9,
    "start_time": "2022-10-15T12:54:53.685Z"
   },
   {
    "duration": 44,
    "start_time": "2022-10-15T12:55:00.299Z"
   },
   {
    "duration": 44,
    "start_time": "2022-10-15T12:55:08.941Z"
   },
   {
    "duration": 25,
    "start_time": "2022-10-15T12:57:40.353Z"
   },
   {
    "duration": 11,
    "start_time": "2022-10-15T12:58:12.128Z"
   },
   {
    "duration": 25,
    "start_time": "2022-10-15T12:58:54.324Z"
   },
   {
    "duration": 39,
    "start_time": "2022-10-15T12:58:59.322Z"
   },
   {
    "duration": 9,
    "start_time": "2022-10-15T12:59:31.203Z"
   },
   {
    "duration": 8,
    "start_time": "2022-10-15T13:00:51.581Z"
   },
   {
    "duration": 7,
    "start_time": "2022-10-15T13:00:59.087Z"
   },
   {
    "duration": 10,
    "start_time": "2022-10-15T13:01:22.214Z"
   },
   {
    "duration": 124,
    "start_time": "2022-10-15T13:01:54.596Z"
   },
   {
    "duration": 10,
    "start_time": "2022-10-15T13:03:22.111Z"
   },
   {
    "duration": 18,
    "start_time": "2022-10-15T13:04:14.777Z"
   },
   {
    "duration": 14,
    "start_time": "2022-10-15T13:04:29.162Z"
   },
   {
    "duration": 132,
    "start_time": "2022-10-15T13:10:36.582Z"
   },
   {
    "duration": 133,
    "start_time": "2022-10-15T13:10:48.203Z"
   },
   {
    "duration": 140,
    "start_time": "2022-10-15T13:11:03.155Z"
   },
   {
    "duration": 152,
    "start_time": "2022-10-15T13:19:08.174Z"
   },
   {
    "duration": 32,
    "start_time": "2022-10-15T13:21:40.828Z"
   },
   {
    "duration": 23,
    "start_time": "2022-10-15T13:26:07.588Z"
   },
   {
    "duration": 219,
    "start_time": "2022-10-15T13:27:12.133Z"
   },
   {
    "duration": 1741,
    "start_time": "2022-10-15T13:27:29.586Z"
   },
   {
    "duration": 1960,
    "start_time": "2022-10-15T13:27:49.167Z"
   },
   {
    "duration": 675,
    "start_time": "2022-10-15T13:31:25.084Z"
   },
   {
    "duration": 23,
    "start_time": "2022-10-15T13:31:48.614Z"
   },
   {
    "duration": 1993,
    "start_time": "2022-10-15T13:31:58.201Z"
   },
   {
    "duration": 47,
    "start_time": "2022-10-15T13:32:00.196Z"
   },
   {
    "duration": 25,
    "start_time": "2022-10-15T13:32:00.244Z"
   },
   {
    "duration": 200,
    "start_time": "2022-10-15T13:32:00.271Z"
   },
   {
    "duration": 45,
    "start_time": "2022-10-15T13:32:00.473Z"
   },
   {
    "duration": 374,
    "start_time": "2022-10-15T13:32:00.692Z"
   },
   {
    "duration": 2,
    "start_time": "2022-10-15T13:32:01.765Z"
   },
   {
    "duration": 25,
    "start_time": "2022-10-15T13:32:03.984Z"
   },
   {
    "duration": 144,
    "start_time": "2022-10-15T13:32:23.035Z"
   },
   {
    "duration": 161,
    "start_time": "2022-10-15T13:32:34.033Z"
   },
   {
    "duration": 18,
    "start_time": "2022-10-15T13:33:17.753Z"
   },
   {
    "duration": 148,
    "start_time": "2022-10-15T13:37:46.285Z"
   },
   {
    "duration": 156,
    "start_time": "2022-10-15T13:38:39.430Z"
   },
   {
    "duration": 141,
    "start_time": "2022-10-15T13:38:50.609Z"
   },
   {
    "duration": 3028,
    "start_time": "2022-10-15T15:19:42.547Z"
   },
   {
    "duration": 47,
    "start_time": "2022-10-15T15:19:45.578Z"
   },
   {
    "duration": 32,
    "start_time": "2022-10-15T15:19:45.627Z"
   },
   {
    "duration": 195,
    "start_time": "2022-10-15T15:19:45.662Z"
   },
   {
    "duration": 44,
    "start_time": "2022-10-15T15:19:45.859Z"
   },
   {
    "duration": 0,
    "start_time": "2022-10-15T15:19:45.905Z"
   },
   {
    "duration": 3,
    "start_time": "2022-10-15T15:19:47.201Z"
   },
   {
    "duration": 759,
    "start_time": "2022-10-15T15:19:47.313Z"
   },
   {
    "duration": 727,
    "start_time": "2022-10-15T15:20:29.305Z"
   },
   {
    "duration": 3282,
    "start_time": "2022-10-15T15:30:08.845Z"
   },
   {
    "duration": 48,
    "start_time": "2022-10-15T15:30:15.522Z"
   },
   {
    "duration": 31,
    "start_time": "2022-10-15T15:30:17.690Z"
   },
   {
    "duration": 202,
    "start_time": "2022-10-15T15:30:19.088Z"
   },
   {
    "duration": 38,
    "start_time": "2022-10-15T15:30:20.127Z"
   },
   {
    "duration": 385,
    "start_time": "2022-10-15T15:30:21.711Z"
   },
   {
    "duration": 3,
    "start_time": "2022-10-15T15:30:22.913Z"
   },
   {
    "duration": 2892,
    "start_time": "2022-10-15T15:35:08.851Z"
   },
   {
    "duration": 47,
    "start_time": "2022-10-15T15:35:12.135Z"
   },
   {
    "duration": 32,
    "start_time": "2022-10-15T15:35:16.593Z"
   },
   {
    "duration": 188,
    "start_time": "2022-10-15T15:35:18.437Z"
   },
   {
    "duration": 36,
    "start_time": "2022-10-15T15:35:20.854Z"
   },
   {
    "duration": 180,
    "start_time": "2022-10-15T15:36:14.389Z"
   },
   {
    "duration": 44,
    "start_time": "2022-10-15T15:36:18.141Z"
   },
   {
    "duration": 446,
    "start_time": "2022-10-15T15:36:21.234Z"
   },
   {
    "duration": 3,
    "start_time": "2022-10-15T15:36:25.078Z"
   },
   {
    "duration": 231,
    "start_time": "2022-10-15T15:36:58.004Z"
   },
   {
    "duration": 36,
    "start_time": "2022-10-15T15:38:20.951Z"
   },
   {
    "duration": 16,
    "start_time": "2022-10-15T15:38:43.048Z"
   },
   {
    "duration": 86,
    "start_time": "2022-10-15T15:40:34.449Z"
   },
   {
    "duration": 10,
    "start_time": "2022-10-15T15:40:37.760Z"
   },
   {
    "duration": 17,
    "start_time": "2022-10-15T15:41:19.640Z"
   },
   {
    "duration": 15,
    "start_time": "2022-10-15T15:42:16.773Z"
   },
   {
    "duration": 17,
    "start_time": "2022-10-15T15:42:32.872Z"
   },
   {
    "duration": 18,
    "start_time": "2022-10-15T15:42:38.493Z"
   },
   {
    "duration": 23,
    "start_time": "2022-10-15T15:42:47.662Z"
   },
   {
    "duration": 16,
    "start_time": "2022-10-15T15:43:05.305Z"
   },
   {
    "duration": 12,
    "start_time": "2022-10-15T15:43:31.365Z"
   },
   {
    "duration": 13,
    "start_time": "2022-10-15T15:44:12.475Z"
   },
   {
    "duration": 15,
    "start_time": "2022-10-15T15:44:25.392Z"
   },
   {
    "duration": 15,
    "start_time": "2022-10-15T15:44:39.446Z"
   },
   {
    "duration": 16,
    "start_time": "2022-10-15T15:44:47.350Z"
   },
   {
    "duration": 35,
    "start_time": "2022-10-15T15:46:06.013Z"
   },
   {
    "duration": 24,
    "start_time": "2022-10-15T15:46:23.788Z"
   },
   {
    "duration": 27,
    "start_time": "2022-10-15T15:46:32.466Z"
   },
   {
    "duration": 30,
    "start_time": "2022-10-15T15:46:59.293Z"
   },
   {
    "duration": 2850,
    "start_time": "2022-10-16T14:46:38.791Z"
   },
   {
    "duration": 50,
    "start_time": "2022-10-16T14:46:41.644Z"
   },
   {
    "duration": 30,
    "start_time": "2022-10-16T14:46:43.139Z"
   },
   {
    "duration": 161,
    "start_time": "2022-10-16T14:46:44.484Z"
   },
   {
    "duration": 34,
    "start_time": "2022-10-16T14:46:45.293Z"
   },
   {
    "duration": 347,
    "start_time": "2022-10-16T14:46:46.520Z"
   },
   {
    "duration": 2,
    "start_time": "2022-10-16T14:46:47.763Z"
   },
   {
    "duration": 166,
    "start_time": "2022-10-16T14:46:49.185Z"
   },
   {
    "duration": 24,
    "start_time": "2022-10-16T14:46:51.622Z"
   },
   {
    "duration": 20,
    "start_time": "2022-10-16T14:46:53.509Z"
   },
   {
    "duration": 77,
    "start_time": "2022-10-16T14:47:37.888Z"
   },
   {
    "duration": 21,
    "start_time": "2022-10-16T14:47:48.842Z"
   },
   {
    "duration": 20,
    "start_time": "2022-10-16T14:48:00.795Z"
   },
   {
    "duration": 42,
    "start_time": "2022-10-16T14:48:47.301Z"
   },
   {
    "duration": 24,
    "start_time": "2022-10-16T14:48:57.375Z"
   },
   {
    "duration": 29,
    "start_time": "2022-10-16T14:49:37.444Z"
   },
   {
    "duration": 24,
    "start_time": "2022-10-16T14:50:05.106Z"
   },
   {
    "duration": 37,
    "start_time": "2022-10-16T14:50:19.997Z"
   },
   {
    "duration": 274,
    "start_time": "2022-10-16T15:27:14.189Z"
   },
   {
    "duration": 369,
    "start_time": "2022-10-16T15:27:41.446Z"
   },
   {
    "duration": 186,
    "start_time": "2022-10-16T15:29:05.081Z"
   },
   {
    "duration": 23,
    "start_time": "2022-10-16T15:34:16.600Z"
   },
   {
    "duration": 168,
    "start_time": "2022-10-16T15:34:25.910Z"
   },
   {
    "duration": 200,
    "start_time": "2022-10-16T15:34:36.102Z"
   },
   {
    "duration": 193,
    "start_time": "2022-10-16T15:34:54.230Z"
   },
   {
    "duration": 52,
    "start_time": "2022-10-16T15:35:12.375Z"
   },
   {
    "duration": 188,
    "start_time": "2022-10-16T15:35:20.017Z"
   },
   {
    "duration": 179,
    "start_time": "2022-10-16T15:36:14.385Z"
   },
   {
    "duration": 37,
    "start_time": "2022-10-16T15:38:56.774Z"
   },
   {
    "duration": 41,
    "start_time": "2022-10-16T15:39:16.351Z"
   },
   {
    "duration": 34,
    "start_time": "2022-10-16T15:39:34.056Z"
   },
   {
    "duration": 35,
    "start_time": "2022-10-16T15:39:44.696Z"
   },
   {
    "duration": 41,
    "start_time": "2022-10-16T15:40:06.700Z"
   },
   {
    "duration": 56,
    "start_time": "2022-10-16T15:41:26.417Z"
   },
   {
    "duration": 25,
    "start_time": "2022-10-16T15:41:43.459Z"
   },
   {
    "duration": 32,
    "start_time": "2022-10-16T15:41:58.058Z"
   },
   {
    "duration": 32,
    "start_time": "2022-10-16T15:42:15.451Z"
   },
   {
    "duration": 46,
    "start_time": "2022-10-16T15:42:26.407Z"
   },
   {
    "duration": 36,
    "start_time": "2022-10-16T15:42:40.284Z"
   },
   {
    "duration": 32,
    "start_time": "2022-10-16T15:42:44.093Z"
   },
   {
    "duration": 39,
    "start_time": "2022-10-16T15:43:07.417Z"
   },
   {
    "duration": 8,
    "start_time": "2022-10-16T15:43:41.510Z"
   },
   {
    "duration": 236,
    "start_time": "2022-10-16T15:43:46.322Z"
   },
   {
    "duration": 6,
    "start_time": "2022-10-16T15:47:28.314Z"
   },
   {
    "duration": 168,
    "start_time": "2022-10-16T15:47:29.229Z"
   },
   {
    "duration": 28,
    "start_time": "2022-10-16T15:47:31.983Z"
   },
   {
    "duration": 132,
    "start_time": "2022-10-16T15:47:34.520Z"
   },
   {
    "duration": 118,
    "start_time": "2022-10-16T15:49:29.089Z"
   },
   {
    "duration": 342,
    "start_time": "2022-10-16T15:49:44.861Z"
   },
   {
    "duration": 311,
    "start_time": "2022-10-16T15:50:03.453Z"
   },
   {
    "duration": 305,
    "start_time": "2022-10-16T15:51:01.630Z"
   },
   {
    "duration": 284,
    "start_time": "2022-10-16T15:51:17.468Z"
   },
   {
    "duration": 3437,
    "start_time": "2022-10-16T19:38:49.080Z"
   },
   {
    "duration": 63,
    "start_time": "2022-10-16T19:38:52.520Z"
   },
   {
    "duration": 36,
    "start_time": "2022-10-16T19:38:52.584Z"
   },
   {
    "duration": 180,
    "start_time": "2022-10-16T19:38:53.616Z"
   },
   {
    "duration": 37,
    "start_time": "2022-10-16T19:38:54.248Z"
   },
   {
    "duration": 380,
    "start_time": "2022-10-16T19:38:55.417Z"
   },
   {
    "duration": 3,
    "start_time": "2022-10-16T19:38:57.515Z"
   },
   {
    "duration": 8,
    "start_time": "2022-10-16T19:38:58.557Z"
   },
   {
    "duration": 193,
    "start_time": "2022-10-16T19:38:59.680Z"
   },
   {
    "duration": 25,
    "start_time": "2022-10-16T19:39:03.445Z"
   },
   {
    "duration": 312,
    "start_time": "2022-10-16T19:39:05.116Z"
   },
   {
    "duration": 14,
    "start_time": "2022-10-16T19:42:13.434Z"
   },
   {
    "duration": 75,
    "start_time": "2022-10-16T19:42:45.596Z"
   },
   {
    "duration": 11,
    "start_time": "2022-10-16T19:43:00.953Z"
   },
   {
    "duration": 5,
    "start_time": "2022-10-16T19:43:20.136Z"
   },
   {
    "duration": 84,
    "start_time": "2022-10-16T19:43:27.198Z"
   },
   {
    "duration": 384,
    "start_time": "2022-10-16T19:45:23.473Z"
   },
   {
    "duration": 3,
    "start_time": "2022-10-16T19:45:29.923Z"
   },
   {
    "duration": 6,
    "start_time": "2022-10-16T19:45:30.229Z"
   },
   {
    "duration": 182,
    "start_time": "2022-10-16T19:45:30.964Z"
   },
   {
    "duration": 180,
    "start_time": "2022-10-16T19:47:04.038Z"
   },
   {
    "duration": 19,
    "start_time": "2022-10-16T19:47:32.859Z"
   },
   {
    "duration": 24,
    "start_time": "2022-10-16T19:48:03.885Z"
   },
   {
    "duration": 1285,
    "start_time": "2022-10-16T19:48:34.138Z"
   },
   {
    "duration": 24,
    "start_time": "2022-10-16T19:48:53.985Z"
   },
   {
    "duration": 182,
    "start_time": "2022-10-16T19:53:04.664Z"
   },
   {
    "duration": 190,
    "start_time": "2022-10-16T19:53:21.311Z"
   },
   {
    "duration": 213,
    "start_time": "2022-10-16T19:56:23.655Z"
   },
   {
    "duration": 18,
    "start_time": "2022-10-16T20:03:26.745Z"
   },
   {
    "duration": 4,
    "start_time": "2022-10-16T20:04:27.553Z"
   },
   {
    "duration": 8,
    "start_time": "2022-10-16T20:04:32.854Z"
   },
   {
    "duration": 3379,
    "start_time": "2022-10-18T12:09:45.930Z"
   },
   {
    "duration": 53,
    "start_time": "2022-10-18T12:09:49.312Z"
   },
   {
    "duration": 32,
    "start_time": "2022-10-18T12:09:55.679Z"
   },
   {
    "duration": 184,
    "start_time": "2022-10-18T12:09:56.807Z"
   },
   {
    "duration": 37,
    "start_time": "2022-10-18T12:09:57.312Z"
   },
   {
    "duration": 391,
    "start_time": "2022-10-18T12:09:59.844Z"
   },
   {
    "duration": 4,
    "start_time": "2022-10-18T12:10:01.994Z"
   },
   {
    "duration": 7,
    "start_time": "2022-10-18T12:10:03.373Z"
   },
   {
    "duration": 183,
    "start_time": "2022-10-18T12:10:04.409Z"
   },
   {
    "duration": 9,
    "start_time": "2022-10-18T12:10:06.270Z"
   },
   {
    "duration": 27,
    "start_time": "2022-10-18T12:10:07.829Z"
   },
   {
    "duration": 405,
    "start_time": "2022-10-18T12:10:09.679Z"
   },
   {
    "duration": 17,
    "start_time": "2022-10-18T12:18:47.399Z"
   },
   {
    "duration": 93,
    "start_time": "2022-10-18T12:23:02.770Z"
   },
   {
    "duration": 6,
    "start_time": "2022-10-18T12:23:14.437Z"
   },
   {
    "duration": 21,
    "start_time": "2022-10-18T12:23:24.658Z"
   },
   {
    "duration": 37,
    "start_time": "2022-10-18T12:23:43.804Z"
   },
   {
    "duration": 35,
    "start_time": "2022-10-18T12:24:09.867Z"
   },
   {
    "duration": 40,
    "start_time": "2022-10-18T12:30:55.065Z"
   },
   {
    "duration": 82,
    "start_time": "2022-10-18T12:31:09.797Z"
   },
   {
    "duration": 2181,
    "start_time": "2022-10-18T12:38:33.360Z"
   },
   {
    "duration": 53,
    "start_time": "2022-10-18T12:38:35.543Z"
   },
   {
    "duration": 31,
    "start_time": "2022-10-18T12:38:35.598Z"
   },
   {
    "duration": 199,
    "start_time": "2022-10-18T12:38:35.632Z"
   },
   {
    "duration": 38,
    "start_time": "2022-10-18T12:38:35.833Z"
   },
   {
    "duration": 443,
    "start_time": "2022-10-18T12:38:35.986Z"
   },
   {
    "duration": 83,
    "start_time": "2022-10-18T12:38:36.591Z"
   },
   {
    "duration": 7,
    "start_time": "2022-10-18T12:38:37.012Z"
   },
   {
    "duration": 195,
    "start_time": "2022-10-18T12:38:38.131Z"
   },
   {
    "duration": 3172,
    "start_time": "2022-10-18T14:52:06.498Z"
   },
   {
    "duration": 47,
    "start_time": "2022-10-18T14:52:09.674Z"
   },
   {
    "duration": 28,
    "start_time": "2022-10-18T14:52:09.723Z"
   },
   {
    "duration": 208,
    "start_time": "2022-10-18T14:52:09.754Z"
   },
   {
    "duration": 39,
    "start_time": "2022-10-18T14:52:09.964Z"
   },
   {
    "duration": 363,
    "start_time": "2022-10-18T14:52:10.352Z"
   },
   {
    "duration": 81,
    "start_time": "2022-10-18T14:52:12.748Z"
   },
   {
    "duration": 9,
    "start_time": "2022-10-18T14:52:20.214Z"
   },
   {
    "duration": 173,
    "start_time": "2022-10-18T14:52:21.067Z"
   },
   {
    "duration": 79,
    "start_time": "2022-10-18T14:52:22.327Z"
   },
   {
    "duration": 16,
    "start_time": "2022-10-18T14:52:36.369Z"
   },
   {
    "duration": 15,
    "start_time": "2022-10-18T14:53:06.642Z"
   },
   {
    "duration": 14,
    "start_time": "2022-10-18T14:53:49.991Z"
   },
   {
    "duration": 20,
    "start_time": "2022-10-18T14:54:13.809Z"
   },
   {
    "duration": 17,
    "start_time": "2022-10-18T14:54:30.736Z"
   },
   {
    "duration": 15,
    "start_time": "2022-10-18T14:54:49.903Z"
   },
   {
    "duration": 5,
    "start_time": "2022-10-18T14:55:04.309Z"
   },
   {
    "duration": 6,
    "start_time": "2022-10-18T14:55:26.484Z"
   },
   {
    "duration": 53,
    "start_time": "2022-10-18T15:02:42.902Z"
   },
   {
    "duration": 2087,
    "start_time": "2022-10-18T15:02:45.085Z"
   },
   {
    "duration": 44,
    "start_time": "2022-10-18T15:02:55.123Z"
   },
   {
    "duration": 29,
    "start_time": "2022-10-18T15:02:56.038Z"
   },
   {
    "duration": 167,
    "start_time": "2022-10-18T15:02:56.930Z"
   },
   {
    "duration": 34,
    "start_time": "2022-10-18T15:02:57.391Z"
   },
   {
    "duration": 420,
    "start_time": "2022-10-18T15:02:58.612Z"
   },
   {
    "duration": 88,
    "start_time": "2022-10-18T15:02:59.665Z"
   },
   {
    "duration": 7,
    "start_time": "2022-10-18T15:03:00.981Z"
   },
   {
    "duration": 182,
    "start_time": "2022-10-18T15:03:02.705Z"
   },
   {
    "duration": 14,
    "start_time": "2022-10-18T15:03:08.019Z"
   },
   {
    "duration": 6,
    "start_time": "2022-10-18T15:03:25.866Z"
   },
   {
    "duration": 682,
    "start_time": "2022-10-18T15:03:34.357Z"
   },
   {
    "duration": 1112,
    "start_time": "2022-10-18T15:03:56.592Z"
   },
   {
    "duration": 2095,
    "start_time": "2022-10-18T15:06:01.865Z"
   },
   {
    "duration": 17,
    "start_time": "2022-10-18T15:07:18.476Z"
   },
   {
    "duration": 18128,
    "start_time": "2022-10-18T15:07:37.999Z"
   },
   {
    "duration": 46,
    "start_time": "2022-10-18T15:07:56.130Z"
   },
   {
    "duration": 49,
    "start_time": "2022-10-18T15:07:56.177Z"
   },
   {
    "duration": 184,
    "start_time": "2022-10-18T15:07:56.228Z"
   },
   {
    "duration": 45,
    "start_time": "2022-10-18T15:07:56.413Z"
   },
   {
    "duration": 379,
    "start_time": "2022-10-18T15:07:56.460Z"
   },
   {
    "duration": 1185,
    "start_time": "2022-10-18T15:07:56.841Z"
   },
   {
    "duration": 243,
    "start_time": "2022-10-18T15:09:22.222Z"
   },
   {
    "duration": 88,
    "start_time": "2022-10-18T15:09:55.218Z"
   },
   {
    "duration": 87,
    "start_time": "2022-10-18T15:10:51.663Z"
   },
   {
    "duration": 63,
    "start_time": "2022-10-18T15:13:06.590Z"
   },
   {
    "duration": 209,
    "start_time": "2022-10-18T15:13:47.895Z"
   },
   {
    "duration": 72,
    "start_time": "2022-10-18T15:14:00.428Z"
   },
   {
    "duration": 242,
    "start_time": "2022-10-18T15:14:15.712Z"
   },
   {
    "duration": 208,
    "start_time": "2022-10-18T15:14:29.487Z"
   },
   {
    "duration": 1981,
    "start_time": "2022-10-18T15:15:56.856Z"
   },
   {
    "duration": 2276,
    "start_time": "2022-10-18T15:16:44.582Z"
   },
   {
    "duration": 2108,
    "start_time": "2022-10-18T15:18:29.691Z"
   },
   {
    "duration": 56,
    "start_time": "2022-10-18T15:18:31.801Z"
   },
   {
    "duration": 30,
    "start_time": "2022-10-18T15:18:34.227Z"
   },
   {
    "duration": 174,
    "start_time": "2022-10-18T15:18:35.216Z"
   },
   {
    "duration": 40,
    "start_time": "2022-10-18T15:18:36.003Z"
   },
   {
    "duration": 343,
    "start_time": "2022-10-18T15:18:36.995Z"
   },
   {
    "duration": 2170,
    "start_time": "2022-10-18T15:18:38.682Z"
   },
   {
    "duration": 91,
    "start_time": "2022-10-18T15:21:23.036Z"
   },
   {
    "duration": 2498,
    "start_time": "2022-10-18T15:21:30.995Z"
   },
   {
    "duration": 2649,
    "start_time": "2022-10-18T15:23:32.815Z"
   },
   {
    "duration": 2785,
    "start_time": "2022-10-18T15:23:58.840Z"
   },
   {
    "duration": 3166,
    "start_time": "2022-10-18T15:24:47.656Z"
   },
   {
    "duration": 2574,
    "start_time": "2022-10-18T15:25:53.392Z"
   },
   {
    "duration": 3799,
    "start_time": "2022-10-18T15:28:29.496Z"
   },
   {
    "duration": 3373,
    "start_time": "2022-10-18T15:29:58.380Z"
   },
   {
    "duration": 3951,
    "start_time": "2022-10-18T15:30:16.278Z"
   },
   {
    "duration": 3349,
    "start_time": "2022-10-18T15:31:02.562Z"
   },
   {
    "duration": 4040,
    "start_time": "2022-10-18T15:31:27.005Z"
   },
   {
    "duration": 3443,
    "start_time": "2022-10-18T15:31:43.523Z"
   },
   {
    "duration": 3965,
    "start_time": "2022-10-18T15:32:10.912Z"
   },
   {
    "duration": 48,
    "start_time": "2022-10-18T15:32:58.804Z"
   },
   {
    "duration": 3452,
    "start_time": "2022-10-18T15:33:09.644Z"
   },
   {
    "duration": 3917,
    "start_time": "2022-10-18T15:33:43.655Z"
   },
   {
    "duration": 3442,
    "start_time": "2022-10-18T15:34:31.360Z"
   },
   {
    "duration": 4033,
    "start_time": "2022-10-18T15:34:53.101Z"
   },
   {
    "duration": 3409,
    "start_time": "2022-10-18T15:35:51.008Z"
   },
   {
    "duration": 4034,
    "start_time": "2022-10-18T15:36:11.607Z"
   },
   {
    "duration": 3398,
    "start_time": "2022-10-18T15:36:19.075Z"
   },
   {
    "duration": 4129,
    "start_time": "2022-10-18T15:37:05.604Z"
   },
   {
    "duration": 3461,
    "start_time": "2022-10-18T15:37:40.382Z"
   },
   {
    "duration": 2798,
    "start_time": "2022-10-18T15:43:00.883Z"
   },
   {
    "duration": 2538,
    "start_time": "2022-10-18T15:45:17.209Z"
   },
   {
    "duration": 2278,
    "start_time": "2022-10-18T15:48:06.438Z"
   },
   {
    "duration": 59,
    "start_time": "2022-10-18T15:50:21.848Z"
   },
   {
    "duration": 57,
    "start_time": "2022-10-18T15:50:54.164Z"
   },
   {
    "duration": 27,
    "start_time": "2022-10-18T15:51:46.460Z"
   },
   {
    "duration": 28,
    "start_time": "2022-10-18T15:53:23.975Z"
   },
   {
    "duration": 2577,
    "start_time": "2022-10-18T15:53:57.999Z"
   },
   {
    "duration": 53,
    "start_time": "2022-10-18T15:54:00.579Z"
   },
   {
    "duration": 30,
    "start_time": "2022-10-18T15:54:00.634Z"
   },
   {
    "duration": 202,
    "start_time": "2022-10-18T15:54:00.667Z"
   },
   {
    "duration": 16,
    "start_time": "2022-10-18T15:54:05.019Z"
   },
   {
    "duration": 28,
    "start_time": "2022-10-18T15:54:09.394Z"
   },
   {
    "duration": 28,
    "start_time": "2022-10-18T15:54:16.786Z"
   },
   {
    "duration": 28,
    "start_time": "2022-10-18T15:54:46.044Z"
   },
   {
    "duration": 2050,
    "start_time": "2022-10-18T15:54:49.659Z"
   },
   {
    "duration": 51,
    "start_time": "2022-10-18T15:54:51.711Z"
   },
   {
    "duration": 29,
    "start_time": "2022-10-18T15:54:51.764Z"
   },
   {
    "duration": 167,
    "start_time": "2022-10-18T15:54:51.949Z"
   },
   {
    "duration": 28,
    "start_time": "2022-10-18T15:54:52.271Z"
   },
   {
    "duration": 18,
    "start_time": "2022-10-18T15:55:08.453Z"
   },
   {
    "duration": 21,
    "start_time": "2022-10-18T15:56:20.255Z"
   },
   {
    "duration": 354,
    "start_time": "2022-10-18T15:56:25.021Z"
   },
   {
    "duration": 2412,
    "start_time": "2022-10-18T15:56:27.006Z"
   },
   {
    "duration": 57,
    "start_time": "2022-10-18T15:58:20.279Z"
   },
   {
    "duration": 50,
    "start_time": "2022-10-18T15:59:40.353Z"
   },
   {
    "duration": 354,
    "start_time": "2022-10-18T15:59:55.303Z"
   },
   {
    "duration": 2866,
    "start_time": "2022-10-18T15:59:56.783Z"
   },
   {
    "duration": 494,
    "start_time": "2022-10-18T16:19:28.201Z"
   },
   {
    "duration": 521,
    "start_time": "2022-10-18T16:19:47.706Z"
   },
   {
    "duration": 236,
    "start_time": "2022-10-18T16:20:16.330Z"
   },
   {
    "duration": 282,
    "start_time": "2022-10-18T16:20:45.630Z"
   },
   {
    "duration": 223,
    "start_time": "2022-10-18T16:21:52.000Z"
   },
   {
    "duration": 322,
    "start_time": "2022-10-18T16:22:05.715Z"
   },
   {
    "duration": 252,
    "start_time": "2022-10-18T16:22:17.930Z"
   },
   {
    "duration": 222,
    "start_time": "2022-10-18T16:22:23.410Z"
   },
   {
    "duration": 176,
    "start_time": "2022-10-18T16:22:33.228Z"
   },
   {
    "duration": 2145,
    "start_time": "2022-10-18T16:31:41.747Z"
   },
   {
    "duration": 54,
    "start_time": "2022-10-18T16:31:43.894Z"
   },
   {
    "duration": 28,
    "start_time": "2022-10-18T16:31:43.949Z"
   },
   {
    "duration": 185,
    "start_time": "2022-10-18T16:31:43.979Z"
   },
   {
    "duration": 18,
    "start_time": "2022-10-18T16:31:44.166Z"
   },
   {
    "duration": 384,
    "start_time": "2022-10-18T16:31:44.454Z"
   },
   {
    "duration": 2991,
    "start_time": "2022-10-18T16:31:45.047Z"
   },
   {
    "duration": 8,
    "start_time": "2022-10-18T16:31:48.041Z"
   },
   {
    "duration": 244,
    "start_time": "2022-10-18T16:31:48.051Z"
   },
   {
    "duration": 1615,
    "start_time": "2022-10-18T16:33:21.528Z"
   },
   {
    "duration": 1484,
    "start_time": "2022-10-18T16:34:51.773Z"
   },
   {
    "duration": 1494,
    "start_time": "2022-10-18T16:35:06.898Z"
   },
   {
    "duration": 2717,
    "start_time": "2022-10-18T18:59:23.166Z"
   },
   {
    "duration": 37,
    "start_time": "2022-10-18T18:59:25.885Z"
   },
   {
    "duration": 24,
    "start_time": "2022-10-18T18:59:25.924Z"
   },
   {
    "duration": 161,
    "start_time": "2022-10-18T18:59:25.949Z"
   },
   {
    "duration": 17,
    "start_time": "2022-10-18T18:59:26.111Z"
   },
   {
    "duration": 325,
    "start_time": "2022-10-18T18:59:26.130Z"
   },
   {
    "duration": 2010,
    "start_time": "2022-10-18T18:59:26.457Z"
   },
   {
    "duration": 5,
    "start_time": "2022-10-18T18:59:28.468Z"
   },
   {
    "duration": 234,
    "start_time": "2022-10-18T18:59:28.475Z"
   },
   {
    "duration": 1202,
    "start_time": "2022-10-18T18:59:28.710Z"
   },
   {
    "duration": 21,
    "start_time": "2022-10-18T18:59:29.913Z"
   },
   {
    "duration": 1785,
    "start_time": "2022-10-18T19:06:12.816Z"
   },
   {
    "duration": 35,
    "start_time": "2022-10-18T19:06:14.604Z"
   },
   {
    "duration": 22,
    "start_time": "2022-10-18T19:06:14.640Z"
   },
   {
    "duration": 155,
    "start_time": "2022-10-18T19:06:14.664Z"
   },
   {
    "duration": 15,
    "start_time": "2022-10-18T19:06:14.820Z"
   },
   {
    "duration": 308,
    "start_time": "2022-10-18T19:06:14.970Z"
   },
   {
    "duration": 1947,
    "start_time": "2022-10-18T19:06:15.425Z"
   },
   {
    "duration": 6,
    "start_time": "2022-10-18T19:06:17.375Z"
   },
   {
    "duration": 153,
    "start_time": "2022-10-18T19:06:17.690Z"
   },
   {
    "duration": 16,
    "start_time": "2022-10-18T19:07:13.317Z"
   },
   {
    "duration": 4,
    "start_time": "2022-10-18T19:07:40.948Z"
   },
   {
    "duration": 1192,
    "start_time": "2022-10-18T19:07:45.691Z"
   },
   {
    "duration": 342,
    "start_time": "2022-10-18T19:09:04.655Z"
   },
   {
    "duration": 1408,
    "start_time": "2022-10-18T19:09:42.857Z"
   },
   {
    "duration": 1365,
    "start_time": "2022-10-18T19:12:15.420Z"
   },
   {
    "duration": 1394,
    "start_time": "2022-10-18T19:13:10.497Z"
   },
   {
    "duration": 1329,
    "start_time": "2022-10-18T19:18:05.199Z"
   },
   {
    "duration": 1249,
    "start_time": "2022-10-18T19:18:42.148Z"
   },
   {
    "duration": 49,
    "start_time": "2022-10-18T19:19:47.805Z"
   },
   {
    "duration": 1418,
    "start_time": "2022-10-18T19:20:15.993Z"
   },
   {
    "duration": 1265,
    "start_time": "2022-10-18T19:21:04.644Z"
   },
   {
    "duration": 1371,
    "start_time": "2022-10-18T19:21:25.827Z"
   },
   {
    "duration": 1308,
    "start_time": "2022-10-18T19:21:43.609Z"
   },
   {
    "duration": 1395,
    "start_time": "2022-10-18T19:22:07.444Z"
   },
   {
    "duration": 1508,
    "start_time": "2022-10-18T19:22:22.078Z"
   },
   {
    "duration": 6,
    "start_time": "2022-10-18T19:22:57.007Z"
   },
   {
    "duration": 1316,
    "start_time": "2022-10-18T19:23:52.982Z"
   },
   {
    "duration": 1400,
    "start_time": "2022-10-18T19:28:30.989Z"
   },
   {
    "duration": 1404,
    "start_time": "2022-10-18T19:28:46.580Z"
   },
   {
    "duration": 1964,
    "start_time": "2022-10-18T19:32:02.936Z"
   },
   {
    "duration": 2704,
    "start_time": "2022-10-18T20:23:30.349Z"
   },
   {
    "duration": 48,
    "start_time": "2022-10-18T20:23:33.055Z"
   },
   {
    "duration": 25,
    "start_time": "2022-10-18T20:23:33.105Z"
   },
   {
    "duration": 168,
    "start_time": "2022-10-18T20:23:33.132Z"
   },
   {
    "duration": 18,
    "start_time": "2022-10-18T20:23:33.301Z"
   },
   {
    "duration": 343,
    "start_time": "2022-10-18T20:23:33.321Z"
   },
   {
    "duration": 83,
    "start_time": "2022-10-18T20:23:33.666Z"
   },
   {
    "duration": 0,
    "start_time": "2022-10-18T20:23:33.751Z"
   },
   {
    "duration": 0,
    "start_time": "2022-10-18T20:23:33.752Z"
   },
   {
    "duration": 0,
    "start_time": "2022-10-18T20:23:33.753Z"
   },
   {
    "duration": 0,
    "start_time": "2022-10-18T20:23:33.754Z"
   },
   {
    "duration": 0,
    "start_time": "2022-10-18T20:23:33.756Z"
   },
   {
    "duration": 39,
    "start_time": "2022-10-18T20:27:18.370Z"
   },
   {
    "duration": 2378,
    "start_time": "2022-10-18T20:28:56.581Z"
   },
   {
    "duration": 3671,
    "start_time": "2022-10-18T20:29:41.594Z"
   },
   {
    "duration": 49,
    "start_time": "2022-10-18T20:29:45.267Z"
   },
   {
    "duration": 26,
    "start_time": "2022-10-18T20:29:45.318Z"
   },
   {
    "duration": 168,
    "start_time": "2022-10-18T20:29:45.346Z"
   },
   {
    "duration": 19,
    "start_time": "2022-10-18T20:29:45.516Z"
   },
   {
    "duration": 370,
    "start_time": "2022-10-18T20:29:45.536Z"
   },
   {
    "duration": 2403,
    "start_time": "2022-10-18T20:29:45.907Z"
   },
   {
    "duration": 5,
    "start_time": "2022-10-18T20:29:48.312Z"
   },
   {
    "duration": 265,
    "start_time": "2022-10-18T20:29:48.319Z"
   },
   {
    "duration": 1441,
    "start_time": "2022-10-18T20:29:48.586Z"
   },
   {
    "duration": 25,
    "start_time": "2022-10-18T20:29:50.028Z"
   },
   {
    "duration": 296,
    "start_time": "2022-10-18T20:29:50.055Z"
   },
   {
    "duration": 283,
    "start_time": "2022-10-18T20:31:24.312Z"
   },
   {
    "duration": 2916,
    "start_time": "2022-10-19T21:57:19.203Z"
   },
   {
    "duration": 110,
    "start_time": "2022-10-19T21:57:22.121Z"
   },
   {
    "duration": 31,
    "start_time": "2022-10-19T21:57:22.233Z"
   },
   {
    "duration": 200,
    "start_time": "2022-10-19T21:57:22.266Z"
   },
   {
    "duration": 30,
    "start_time": "2022-10-19T21:57:22.468Z"
   },
   {
    "duration": 386,
    "start_time": "2022-10-19T21:57:22.500Z"
   },
   {
    "duration": 891,
    "start_time": "2022-10-19T21:57:22.889Z"
   },
   {
    "duration": 189,
    "start_time": "2022-10-19T21:57:23.781Z"
   },
   {
    "duration": 193,
    "start_time": "2022-10-19T21:57:23.972Z"
   },
   {
    "duration": 507,
    "start_time": "2022-10-19T21:57:24.169Z"
   },
   {
    "duration": 322,
    "start_time": "2022-10-19T21:57:24.678Z"
   },
   {
    "duration": 354,
    "start_time": "2022-10-19T21:57:25.002Z"
   },
   {
    "duration": 252,
    "start_time": "2022-10-19T21:57:25.358Z"
   },
   {
    "duration": 6,
    "start_time": "2022-10-19T21:57:25.612Z"
   },
   {
    "duration": 197,
    "start_time": "2022-10-19T21:57:25.620Z"
   },
   {
    "duration": 1600,
    "start_time": "2022-10-19T21:57:25.819Z"
   },
   {
    "duration": 24,
    "start_time": "2022-10-19T21:57:27.421Z"
   },
   {
    "duration": 52,
    "start_time": "2022-10-19T21:57:27.446Z"
   },
   {
    "duration": 398,
    "start_time": "2022-10-19T21:57:27.500Z"
   }
  ],
  "kernelspec": {
   "display_name": "Python 3 (ipykernel)",
   "language": "python",
   "name": "python3"
  },
  "language_info": {
   "codemirror_mode": {
    "name": "ipython",
    "version": 3
   },
   "file_extension": ".py",
   "mimetype": "text/x-python",
   "name": "python",
   "nbconvert_exporter": "python",
   "pygments_lexer": "ipython3",
   "version": "3.9.12"
  },
  "toc": {
   "base_numbering": 1,
   "nav_menu": {},
   "number_sections": true,
   "sideBar": true,
   "skip_h1_title": true,
   "title_cell": "Table of Contents",
   "title_sidebar": "Contents",
   "toc_cell": false,
   "toc_position": {},
   "toc_section_display": true,
   "toc_window_display": true
  }
 },
 "nbformat": 4,
 "nbformat_minor": 2
}
